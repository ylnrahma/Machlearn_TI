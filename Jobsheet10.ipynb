{
  "cells": [
    {
      "cell_type": "markdown",
      "metadata": {
        "id": "view-in-github",
        "colab_type": "text"
      },
      "source": [
        "<a href=\"https://colab.research.google.com/github/ylnrahma/Machlearn_TI/blob/main/Jobsheet10.ipynb\" target=\"_parent\"><img src=\"https://colab.research.google.com/assets/colab-badge.svg\" alt=\"Open In Colab\"/></a>"
      ]
    },
    {
      "cell_type": "markdown",
      "source": [
        "## **JOBSHEET 10  Recurrent Neural Networks (RNN)**\n",
        "\n",
        "Nama : Yuliyana Rahmawati\n",
        "\n",
        "No   : 30\n",
        "\n",
        "NIM  : 2141720241\n",
        "\n",
        "Kelas : 3B-TI"
      ],
      "metadata": {
        "id": "zYIIHRZbveGg"
      }
    },
    {
      "cell_type": "markdown",
      "metadata": {
        "id": "2xSfB6X-he0M"
      },
      "source": [
        "## Praktikum 1\n",
        "RNN untuk Analisis Sentimen"
      ]
    },
    {
      "cell_type": "markdown",
      "metadata": {
        "id": "gx8mTcIqhl2N"
      },
      "source": [
        "### Setup\n",
        "Impor matplotlib dan buat fungsi pembantu untuk memplot grafik:"
      ]
    },
    {
      "cell_type": "code",
      "execution_count": null,
      "metadata": {
        "id": "rrNtlT_1hd5O"
      },
      "outputs": [],
      "source": [
        "import numpy as np\n",
        "import tensorflow_datasets as tfds\n",
        "import tensorflow as tf\n",
        "\n",
        "tfds.disable_progress_bar()"
      ]
    },
    {
      "cell_type": "code",
      "execution_count": null,
      "metadata": {
        "id": "ourtaQiVhu6T"
      },
      "outputs": [],
      "source": [
        "import matplotlib.pyplot as plt\n",
        "\n",
        "def plot_graphs(history, metric):\n",
        "    plt.plot(history.history[metric])\n",
        "    plt.plot(history.history['val_'+metric], '')\n",
        "    plt.xlabel(\"Epochs\")\n",
        "    plt.ylabel(metric)\n",
        "    plt.legend([metric, 'val_'+metric])"
      ]
    },
    {
      "cell_type": "markdown",
      "metadata": {
        "id": "8gWMZ_rphxAJ"
      },
      "source": [
        "### Setup input pipeline\n",
        "Dataset ulasan film IMDB adalah kumpulan data klasifikasi biner—semua ulasan memiliki sentimen positif atau negatif.\n",
        "\n",
        "Download dataset menggunakan TFDS. Lihat loading text tutorial jika ingin me load data secara manual"
      ]
    },
    {
      "cell_type": "code",
      "execution_count": null,
      "metadata": {
        "colab": {
          "base_uri": "https://localhost:8080/"
        },
        "id": "-IddocMgke6E",
        "outputId": "c3e17e8b-7130-42e3-f4c0-1c61e186cf7b"
      },
      "outputs": [
        {
          "output_type": "stream",
          "name": "stdout",
          "text": [
            "Downloading and preparing dataset 80.23 MiB (download: 80.23 MiB, generated: Unknown size, total: 80.23 MiB) to /root/tensorflow_datasets/imdb_reviews/plain_text/1.0.0...\n",
            "Dataset imdb_reviews downloaded and prepared to /root/tensorflow_datasets/imdb_reviews/plain_text/1.0.0. Subsequent calls will reuse this data.\n"
          ]
        },
        {
          "output_type": "execute_result",
          "data": {
            "text/plain": [
              "(TensorSpec(shape=(), dtype=tf.string, name=None),\n",
              " TensorSpec(shape=(), dtype=tf.int64, name=None))"
            ]
          },
          "metadata": {},
          "execution_count": 3
        }
      ],
      "source": [
        "dataset, info = tfds.load('imdb_reviews', with_info=True,\n",
        "                          as_supervised=True)\n",
        "train_dataset, test_dataset = dataset['train'], dataset['test']\n",
        "\n",
        "train_dataset.element_spec"
      ]
    },
    {
      "cell_type": "markdown",
      "metadata": {
        "id": "E2dBfF3Ykjg7"
      },
      "source": [
        "Awalnya ini mengembalikan dataset (teks, pasangan label):"
      ]
    },
    {
      "cell_type": "code",
      "execution_count": null,
      "metadata": {
        "colab": {
          "base_uri": "https://localhost:8080/"
        },
        "id": "Dl6mvQJpkiS0",
        "outputId": "30016170-c628-472d-8ac6-321a8aefaa97"
      },
      "outputs": [
        {
          "output_type": "stream",
          "name": "stdout",
          "text": [
            "text:  b\"This was an absolutely terrible movie. Don't be lured in by Christopher Walken or Michael Ironside. Both are great actors, but this must simply be their worst role in history. Even their great acting could not redeem this movie's ridiculous storyline. This movie is an early nineties US propaganda piece. The most pathetic scenes were those when the Columbian rebels were making their cases for revolutions. Maria Conchita Alonso appeared phony, and her pseudo-love affair with Walken was nothing but a pathetic emotional plug in a movie that was devoid of any real meaning. I am disappointed that there are movies like this, ruining actor's like Christopher Walken's good name. I could barely sit through it.\"\n",
            "label:  0\n"
          ]
        }
      ],
      "source": [
        "for example, label in train_dataset.take(1):\n",
        "  print('text: ', example.numpy())\n",
        "  print('label: ', label.numpy())"
      ]
    },
    {
      "cell_type": "markdown",
      "metadata": {
        "id": "2gchnCCxkp9e"
      },
      "source": [
        "Berikutnya acak data untuk pelatihan dan membuat kumpulan pasangan (teks, label) ini:"
      ]
    },
    {
      "cell_type": "code",
      "execution_count": null,
      "metadata": {
        "colab": {
          "base_uri": "https://localhost:8080/"
        },
        "id": "umcyeljPkrj4",
        "outputId": "f46ec76e-c6cb-4d38-bf16-a441b6096228"
      },
      "outputs": [
        {
          "output_type": "stream",
          "name": "stdout",
          "text": [
            "texts:  [b\"I'm normally a sucker for romantic films which are well-filmed and well-acted out. This is a romantic (period) film set in 17th-century Italy, but filmed in French with English subtitles. The fact that it is a period film means it will inevitably be slower-paced than films set in the modern day era, so it Will bore some. If you can overlook that fact, it is actually a really good film. The scenery, the costumes, and the cinematography are beautiful, and the main actors and actress are very compelling in their portrayals, projecting the intensity of the emotions that are running through the plot. The story is like a sad love story with an unhappy ending. Its easy to believe that this is an accurate portrayal of the real-life characters. In spite of the fact that I was really moved by the main characters and the storyline, I decided to check out the validity of the story and found out that the main theme of the movie's story - that of an sad unfinished love story - was completely fabricated. <br /><br />In real life, Artemisia was raped by Tassi initially, rather than submitting to his advances willingly and passionately as the movie had portrayed. She continued to have sexual relations with him only because he had repeatedly promised to marry her. When they were in court, he had *not* admitted guilt of rape out of pity for Artemisia's torture (unlike what the movie portrays). In reality, he had tried to portray Artemisia as a loose, promiscuous woman with insatiable sexual urges. In the movie, his sister testified in court that Tassi had a wife and had sexual relations with his sister-in-law, and Tassi's character was all the while made to appear as if his sister had been slandering him regarding his alleged affair with his sister-in-law (although he admits to having had a wife back in Florence). Needless to say, in reality it wasn't really like that at all. In fact, far from it. Tassi was really responsible in the planned murder of his wife, whom he had begotten from rape. And to add to that, Tassi really had sexual relations with his sister-in-law, impregnating her in the process, but all this wasn't really mutual as well - again, he had raped his sister-in-law before. <br /><br />So now we have a clear picture of the real Tassi as a multiple sex offender, what do we make of the film Artemisia's portrayal of him as a lover? We take it as an attempt to make this movie into a romantic film... that this film was never made to be historically accurate... Apart from these points just mentioned, there were other historical inaccuracies like in its interpretation of Artemisia's art (in real-life, she was never really influenced by Tassi's painting style, and she was actually considered a much better painter than Tassi ever was.) One thing remains true and its the fact that Artemisia Gentileschi has been credited as the first woman painter in history, and although her mastery of the art rivalled many of her male peers, she had always experienced difficulty in getting enough credit for her work because of her gender as a woman, in 17th century Italy.<br /><br />Enjoy this film for its own sake, for it is a pretty good romantic drama, but take its historical references with a grain of salt.\"\n",
            " b\"Jennifer's Shadow is set in Argentina & starts as Jennifer Cassi (Gina Philips) arrives there after her sister Johanna dies. Jennifer is left Johanna's large house in her will, Jennifer decides to sell the house & head back to Los Angeles even though her Grandmother Mary Ellen (Faye Dunaway) is opposed to the sale. However strange things begin to happen, Jennifer starts having nightmares about Ravens pecking at her & she starts to feel very ill. After a check up in hospital it seems that one of her kidney's have mysteriously disappeared, what is happening to Jennifer? Is it an ancient family curse? Will Jennifer be the next to succumb to it...<br /><br />This Argentinian American co-production was co-written & co-directed by Daniel de la Vega & Pablo Par\\xc3\\xa9s & is a really dull waste of ninety odd minutes, a tedious & predictable modern ghost story that I would imagine will put more people to sleep sooner than scare them. The script by Vega, Par\\xc3\\xa9s & P.J. Pettiette is pretty slow going & tedious which is not what anyone wants, I mean I'm sure most people don't want to sit down & be bored out of their skulls. The character's are all uninteresting & fairly faceless with little or no motivation for anything they do. For instance who is that graveyard caretaker guy? How did he know about the demons? What is his interest & motivation for getting involved? I couldn't see it. Jennifer herself is a pretty unlikable & bland leading lady, her Grandmother Mary Allen is as clich\\xc3\\xa9d as they come & it's surprising that she is so obviously the villain. I mean for this sort of mystery based horror/ghost story it's surprisingly predictable & routine. There are gaps in both logic & the story which together with the terrible twist ending which isn't much of a twist I didn't like Jennifer's Shadow one iota.<br /><br />Directors Vega & Par\\xc3\\xa9s goes down the much used route of bleaching almost all of the colour from the picture which often renders it not too far from black and white, I suspect that they wanted to give it a period Gothic feel but it's been done so many times before & often so much better that it didn't do much for me at all & just makes the whole film look dull & lifeless. There's a definite 40's period look as well, from the costumes to the interior of the large house but again it's rather half hearted & cheap looking. Jennifer's Shadow is well made but it's rather forgettable, it's not scary or creepy & it's rather predictable. If that wasn't enough there's no gore either, there's a few scenes of Ravens pecking away at people & a beating heart but nothing else.<br /><br />With a supposed budget of about $1,000,000 & retitled to The Chronicles of the Raven for it's US & international DVD release this is reasonably well made but a million won't buy you too much these days & Jennifer's Shadow pretty much proves that theory. There are too many scenes of actor's speaking in thick Argentinian accents as well, even though it might be realistic I actually like to be able to understand what people are saying. The acting is alright although Dunaway overacts badly & is obviously there for the money.<br /><br />Jennifer's Shadow is a rubbishy ghost film that I thought was a total bore from start to finish, I would rather watch The Incredibly Strange Creatures Who Stopped Living and Became Mixed-Up Zombies!!? (1964) again instead. A total waste of time.\"\n",
            " b\"Although I had some hopes for this film, particularly since I enjoy the acting of Jason Segel (Freaks & Geeks, Undeclared) so much, I must say it was one of the worst films I've seen in recent memory (Loser and Dr T and the Women are also on that list).<br /><br />Yes, there were a couple of laugh out loud moments, although the movie could have been so much better. The premise was not bad- scam artists cheating their way through college meet their match when they're discovered by someone with a proposition for them. The problem is that the characters were all so unlikable, that I didn't care about any of them. The blackmailer (played by talented Jason Schwartzman) was such a psychopath that it wasn't that funny to watch him- he wasn't deranged in a particularly funny or charming way, he was just a crazy loser, who was actually rather dangerous and not fun to watch. The editing of the movie was hard to follow-- it kept cutting between fantasy and reality and it was often unclear which was which. Only two or three of the gang's scams were really shown, you just had to take it on faith that they were indeed scam artists-- showing their schemes would have made for a better movie. The so-called love story was absurd and unbelievable, in fact it was silly and poorly written and directed throughout. I could go on about the movie's shortcomings, but you get the idea. Not worth the $4 rental or the gas it takes to drive to and from the movie store to rent!\"]\n",
            "\n",
            "labels:  [1 0 0]\n"
          ]
        }
      ],
      "source": [
        "BUFFER_SIZE = 10000\n",
        "BATCH_SIZE = 64\n",
        "\n",
        "train_dataset = train_dataset.shuffle(BUFFER_SIZE).batch(BATCH_SIZE).prefetch(tf.data.AUTOTUNE)\n",
        "test_dataset = test_dataset.batch(BATCH_SIZE).prefetch(tf.data.AUTOTUNE)\n",
        "\n",
        "for example, label in train_dataset.take(1):\n",
        "  print('texts: ', example.numpy()[:3])\n",
        "  print()\n",
        "  print('labels: ', label.numpy()[:3])"
      ]
    },
    {
      "cell_type": "markdown",
      "metadata": {
        "id": "CNOVETKfknzx"
      },
      "source": [
        "### Buat Teks Encoder"
      ]
    },
    {
      "cell_type": "markdown",
      "metadata": {
        "id": "UxHOqpv2kxV3"
      },
      "source": [
        "Teks mentah yang dimuat oleh tfds perlu diproses sebelum dapat digunakan dalam model. Cara termudah memproses teks untuk pelatihan adalah menggunakan lapisan TextVectorization. Lapisan ini memiliki banyak kemampuan, namun pada tutorial ini menggunakan perilaku default. Buat lapisan tersebut, dan teruskan teks kumpulan data ke metode .adapt lapisan:"
      ]
    },
    {
      "cell_type": "code",
      "execution_count": null,
      "metadata": {
        "id": "7IISG_1Pk1i0"
      },
      "outputs": [],
      "source": [
        "VOCAB_SIZE = 1000\n",
        "encoder = tf.keras.layers.TextVectorization(\n",
        "    max_tokens=VOCAB_SIZE)\n",
        "encoder.adapt(train_dataset.map(lambda text, label: text))"
      ]
    },
    {
      "cell_type": "markdown",
      "metadata": {
        "id": "04qE035Kk4lG"
      },
      "source": [
        "Metode .adapt mengatur kosakata lapisan. 20 token pertama dapat dilihat dengan kode berikut. Setelah padding dan token yang tidak diketahui, mereka diurutkan berdasarkan frekuensi:"
      ]
    },
    {
      "cell_type": "code",
      "execution_count": null,
      "metadata": {
        "colab": {
          "base_uri": "https://localhost:8080/"
        },
        "id": "L5jm6Utok52J",
        "outputId": "0dca302c-e954-4307-96d4-e34dfebadbf8"
      },
      "outputs": [
        {
          "output_type": "execute_result",
          "data": {
            "text/plain": [
              "array(['', '[UNK]', 'the', 'and', 'a', 'of', 'to', 'is', 'in', 'it', 'i',\n",
              "       'this', 'that', 'br', 'was', 'as', 'for', 'with', 'movie', 'but'],\n",
              "      dtype='<U14')"
            ]
          },
          "metadata": {},
          "execution_count": 7
        }
      ],
      "source": [
        "vocab = np.array(encoder.get_vocabulary())\n",
        "vocab[:20]"
      ]
    },
    {
      "cell_type": "markdown",
      "metadata": {
        "id": "c4aS-qTqlGar"
      },
      "source": [
        "Setelah kosakata diatur, lapisan dapat mengkodekan teks ke dalam indeks. Tensor indeks diberi bantalan 0 ke urutan terpanjang dalam batch (kecuali jika Anda menetapkan output_sequence_length tetap):"
      ]
    },
    {
      "cell_type": "code",
      "execution_count": null,
      "metadata": {
        "colab": {
          "base_uri": "https://localhost:8080/"
        },
        "id": "pvQGhTY5lGBZ",
        "outputId": "ac398b1e-977f-46cb-8082-f4da554dd99c"
      },
      "outputs": [
        {
          "output_type": "execute_result",
          "data": {
            "text/plain": [
              "array([[142,   1,   4, ...,   0,   0,   0],\n",
              "       [  1,   1,   7, ...,   0,   0,   0],\n",
              "       [255,  10,  67, ...,   0,   0,   0]])"
            ]
          },
          "metadata": {},
          "execution_count": 8
        }
      ],
      "source": [
        "encoded_example = encoder(example)[:3].numpy()\n",
        "encoded_example"
      ]
    },
    {
      "cell_type": "markdown",
      "metadata": {
        "id": "oB6BNRl_lPFe"
      },
      "source": [
        "Dengan pengaturan default, prosesnya tidak dapat dibalik sepenuhnya. Ada dua alasan utama untuk itu:\n",
        "*      Nilai default untuk argumen standarisasi preprocessing.TextVectorization adalah \"lower_and_strip_punctuation\".\n",
        "*        Ukuran kosa kata yang terbatas dan kurangnya fallback berbasis karakter menghasilkan beberapa token yang tidak diketahui."
      ]
    },
    {
      "cell_type": "code",
      "execution_count": null,
      "metadata": {
        "colab": {
          "base_uri": "https://localhost:8080/"
        },
        "id": "wvemPkNHlfld",
        "outputId": "589a3d0a-ac4e-438a-b50d-0c5f06217b13"
      },
      "outputs": [
        {
          "output_type": "stream",
          "name": "stdout",
          "text": [
            "Original:  b\"I'm normally a sucker for romantic films which are well-filmed and well-acted out. This is a romantic (period) film set in 17th-century Italy, but filmed in French with English subtitles. The fact that it is a period film means it will inevitably be slower-paced than films set in the modern day era, so it Will bore some. If you can overlook that fact, it is actually a really good film. The scenery, the costumes, and the cinematography are beautiful, and the main actors and actress are very compelling in their portrayals, projecting the intensity of the emotions that are running through the plot. The story is like a sad love story with an unhappy ending. Its easy to believe that this is an accurate portrayal of the real-life characters. In spite of the fact that I was really moved by the main characters and the storyline, I decided to check out the validity of the story and found out that the main theme of the movie's story - that of an sad unfinished love story - was completely fabricated. <br /><br />In real life, Artemisia was raped by Tassi initially, rather than submitting to his advances willingly and passionately as the movie had portrayed. She continued to have sexual relations with him only because he had repeatedly promised to marry her. When they were in court, he had *not* admitted guilt of rape out of pity for Artemisia's torture (unlike what the movie portrays). In reality, he had tried to portray Artemisia as a loose, promiscuous woman with insatiable sexual urges. In the movie, his sister testified in court that Tassi had a wife and had sexual relations with his sister-in-law, and Tassi's character was all the while made to appear as if his sister had been slandering him regarding his alleged affair with his sister-in-law (although he admits to having had a wife back in Florence). Needless to say, in reality it wasn't really like that at all. In fact, far from it. Tassi was really responsible in the planned murder of his wife, whom he had begotten from rape. And to add to that, Tassi really had sexual relations with his sister-in-law, impregnating her in the process, but all this wasn't really mutual as well - again, he had raped his sister-in-law before. <br /><br />So now we have a clear picture of the real Tassi as a multiple sex offender, what do we make of the film Artemisia's portrayal of him as a lover? We take it as an attempt to make this movie into a romantic film... that this film was never made to be historically accurate... Apart from these points just mentioned, there were other historical inaccuracies like in its interpretation of Artemisia's art (in real-life, she was never really influenced by Tassi's painting style, and she was actually considered a much better painter than Tassi ever was.) One thing remains true and its the fact that Artemisia Gentileschi has been credited as the first woman painter in history, and although her mastery of the art rivalled many of her male peers, she had always experienced difficulty in getting enough credit for her work because of her gender as a woman, in 17th century Italy.<br /><br />Enjoy this film for its own sake, for it is a pretty good romantic drama, but take its historical references with a grain of salt.\"\n",
            "Round-trip:  im [UNK] a [UNK] for romantic films which are [UNK] and [UNK] out this is a romantic period film set in [UNK] [UNK] but filmed in french with english [UNK] the fact that it is a period film means it will [UNK] be [UNK] than films set in the modern day [UNK] so it will [UNK] some if you can [UNK] that fact it is actually a really good film the [UNK] the [UNK] and the cinematography are beautiful and the main actors and actress are very [UNK] in their [UNK] [UNK] the [UNK] of the [UNK] that are running through the plot the story is like a sad love story with an [UNK] ending its easy to believe that this is an [UNK] [UNK] of the [UNK] characters in [UNK] of the fact that i was really [UNK] by the main characters and the storyline i decided to check out the [UNK] of the story and found out that the main theme of the movies story that of an sad [UNK] love story was completely [UNK] br br in real life [UNK] was [UNK] by [UNK] [UNK] rather than [UNK] to his [UNK] [UNK] and [UNK] as the movie had portrayed she [UNK] to have sexual [UNK] with him only because he had [UNK] [UNK] to [UNK] her when they were in [UNK] he had not [UNK] [UNK] of [UNK] out of [UNK] for [UNK] [UNK] unlike what the movie [UNK] in reality he had tried to [UNK] [UNK] as a [UNK] [UNK] woman with [UNK] sexual [UNK] in the movie his sister [UNK] in [UNK] that [UNK] had a wife and had sexual [UNK] with his [UNK] and [UNK] character was all the while made to appear as if his sister had been [UNK] him [UNK] his [UNK] [UNK] with his [UNK] although he [UNK] to having had a wife back in [UNK] [UNK] to say in reality it wasnt really like that at all in fact far from it [UNK] was really [UNK] in the [UNK] murder of his wife whom he had [UNK] from [UNK] and to add to that [UNK] really had sexual [UNK] with his [UNK] [UNK] her in the [UNK] but all this wasnt really [UNK] as well again he had [UNK] his [UNK] before br br so now we have a clear picture of the real [UNK] as a [UNK] sex [UNK] what do we make of the film [UNK] [UNK] of him as a [UNK] we take it as an attempt to make this movie into a romantic film that this film was never made to be [UNK] [UNK] apart from these points just [UNK] there were other [UNK] [UNK] like in its [UNK] of [UNK] art in [UNK] she was never really [UNK] by [UNK] [UNK] style and she was actually [UNK] a much better [UNK] than [UNK] ever was one thing [UNK] true and its the fact that [UNK] [UNK] has been [UNK] as the first woman [UNK] in history and although her [UNK] of the art [UNK] many of her male [UNK] she had always [UNK] [UNK] in getting enough [UNK] for her work because of her [UNK] as a woman in [UNK] [UNK] [UNK] br enjoy this film for its own [UNK] for it is a pretty good romantic drama but take its [UNK] [UNK] with a [UNK] of [UNK]                                                                                                                                                                                                                                        \n",
            "\n",
            "Original:  b\"Jennifer's Shadow is set in Argentina & starts as Jennifer Cassi (Gina Philips) arrives there after her sister Johanna dies. Jennifer is left Johanna's large house in her will, Jennifer decides to sell the house & head back to Los Angeles even though her Grandmother Mary Ellen (Faye Dunaway) is opposed to the sale. However strange things begin to happen, Jennifer starts having nightmares about Ravens pecking at her & she starts to feel very ill. After a check up in hospital it seems that one of her kidney's have mysteriously disappeared, what is happening to Jennifer? Is it an ancient family curse? Will Jennifer be the next to succumb to it...<br /><br />This Argentinian American co-production was co-written & co-directed by Daniel de la Vega & Pablo Par\\xc3\\xa9s & is a really dull waste of ninety odd minutes, a tedious & predictable modern ghost story that I would imagine will put more people to sleep sooner than scare them. The script by Vega, Par\\xc3\\xa9s & P.J. Pettiette is pretty slow going & tedious which is not what anyone wants, I mean I'm sure most people don't want to sit down & be bored out of their skulls. The character's are all uninteresting & fairly faceless with little or no motivation for anything they do. For instance who is that graveyard caretaker guy? How did he know about the demons? What is his interest & motivation for getting involved? I couldn't see it. Jennifer herself is a pretty unlikable & bland leading lady, her Grandmother Mary Allen is as clich\\xc3\\xa9d as they come & it's surprising that she is so obviously the villain. I mean for this sort of mystery based horror/ghost story it's surprisingly predictable & routine. There are gaps in both logic & the story which together with the terrible twist ending which isn't much of a twist I didn't like Jennifer's Shadow one iota.<br /><br />Directors Vega & Par\\xc3\\xa9s goes down the much used route of bleaching almost all of the colour from the picture which often renders it not too far from black and white, I suspect that they wanted to give it a period Gothic feel but it's been done so many times before & often so much better that it didn't do much for me at all & just makes the whole film look dull & lifeless. There's a definite 40's period look as well, from the costumes to the interior of the large house but again it's rather half hearted & cheap looking. Jennifer's Shadow is well made but it's rather forgettable, it's not scary or creepy & it's rather predictable. If that wasn't enough there's no gore either, there's a few scenes of Ravens pecking away at people & a beating heart but nothing else.<br /><br />With a supposed budget of about $1,000,000 & retitled to The Chronicles of the Raven for it's US & international DVD release this is reasonably well made but a million won't buy you too much these days & Jennifer's Shadow pretty much proves that theory. There are too many scenes of actor's speaking in thick Argentinian accents as well, even though it might be realistic I actually like to be able to understand what people are saying. The acting is alright although Dunaway overacts badly & is obviously there for the money.<br /><br />Jennifer's Shadow is a rubbishy ghost film that I thought was a total bore from start to finish, I would rather watch The Incredibly Strange Creatures Who Stopped Living and Became Mixed-Up Zombies!!? (1964) again instead. A total waste of time.\"\n",
            "Round-trip:  [UNK] [UNK] is set in [UNK] starts as [UNK] [UNK] [UNK] [UNK] [UNK] there after her sister [UNK] [UNK] [UNK] is left [UNK] [UNK] house in her will [UNK] [UNK] to [UNK] the house head back to [UNK] [UNK] even though her [UNK] [UNK] [UNK] [UNK] [UNK] is [UNK] to the [UNK] however strange things begin to happen [UNK] starts having [UNK] about [UNK] [UNK] at her she starts to feel very ill after a check up in [UNK] it seems that one of her [UNK] have [UNK] [UNK] what is [UNK] to [UNK] is it an [UNK] family [UNK] will [UNK] be the next to [UNK] to itbr br this [UNK] american [UNK] was [UNK] [UNK] by [UNK] de la [UNK] [UNK] [UNK] is a really dull waste of [UNK] [UNK] minutes a [UNK] predictable modern [UNK] story that i would imagine will put more people to [UNK] [UNK] than [UNK] them the script by [UNK] [UNK] [UNK] [UNK] is pretty slow going [UNK] which is not what anyone wants i mean im sure most people dont want to sit down be [UNK] out of their [UNK] the characters are all [UNK] fairly [UNK] with little or no [UNK] for anything they do for [UNK] who is that [UNK] [UNK] guy how did he know about the [UNK] what is his interest [UNK] for getting involved i couldnt see it [UNK] herself is a pretty [UNK] [UNK] leading lady her [UNK] [UNK] [UNK] is as [UNK] as they come its [UNK] that she is so obviously the [UNK] i mean for this sort of mystery based [UNK] story its [UNK] predictable [UNK] there are [UNK] in both [UNK] the story which together with the terrible twist ending which isnt much of a twist i didnt like [UNK] [UNK] one [UNK] br directors [UNK] [UNK] goes down the much used [UNK] of [UNK] almost all of the [UNK] from the picture which often [UNK] it not too far from black and white i [UNK] that they wanted to give it a period [UNK] feel but its been done so many times before often so much better that it didnt do much for me at all just makes the whole film look dull [UNK] theres a [UNK] [UNK] period look as well from the [UNK] to the [UNK] of the [UNK] house but again its rather half [UNK] cheap looking [UNK] [UNK] is well made but its rather [UNK] its not scary or creepy its rather predictable if that wasnt enough theres no gore either theres a few scenes of [UNK] [UNK] away at people a [UNK] heart but nothing [UNK] br with a supposed budget of about [UNK] [UNK] to the [UNK] of the [UNK] for its us [UNK] dvd release this is [UNK] well made but a [UNK] wont buy you too much these days [UNK] [UNK] pretty much [UNK] that [UNK] there are too many scenes of actors [UNK] in [UNK] [UNK] [UNK] as well even though it might be realistic i actually like to be able to understand what people are saying the acting is [UNK] although [UNK] [UNK] badly is obviously there for the [UNK] br [UNK] [UNK] is a [UNK] [UNK] film that i thought was a total [UNK] from start to [UNK] i would rather watch the incredibly strange [UNK] who [UNK] living and became [UNK] [UNK] [UNK] again instead a total waste of time                                                                                                                                                                                                                                \n",
            "\n",
            "Original:  b\"Although I had some hopes for this film, particularly since I enjoy the acting of Jason Segel (Freaks & Geeks, Undeclared) so much, I must say it was one of the worst films I've seen in recent memory (Loser and Dr T and the Women are also on that list).<br /><br />Yes, there were a couple of laugh out loud moments, although the movie could have been so much better. The premise was not bad- scam artists cheating their way through college meet their match when they're discovered by someone with a proposition for them. The problem is that the characters were all so unlikable, that I didn't care about any of them. The blackmailer (played by talented Jason Schwartzman) was such a psychopath that it wasn't that funny to watch him- he wasn't deranged in a particularly funny or charming way, he was just a crazy loser, who was actually rather dangerous and not fun to watch. The editing of the movie was hard to follow-- it kept cutting between fantasy and reality and it was often unclear which was which. Only two or three of the gang's scams were really shown, you just had to take it on faith that they were indeed scam artists-- showing their schemes would have made for a better movie. The so-called love story was absurd and unbelievable, in fact it was silly and poorly written and directed throughout. I could go on about the movie's shortcomings, but you get the idea. Not worth the $4 rental or the gas it takes to drive to and from the movie store to rent!\"\n",
            "Round-trip:  although i had some [UNK] for this film particularly since i enjoy the acting of [UNK] [UNK] [UNK] [UNK] [UNK] so much i must say it was one of the worst films ive seen in [UNK] [UNK] [UNK] and dr [UNK] and the women are also on that [UNK] br yes there were a couple of laugh out [UNK] moments although the movie could have been so much better the premise was not bad [UNK] [UNK] [UNK] their way through [UNK] meet their [UNK] when theyre [UNK] by someone with a [UNK] for them the problem is that the characters were all so [UNK] that i didnt care about any of them the [UNK] played by [UNK] [UNK] [UNK] was such a [UNK] that it wasnt that funny to watch him he wasnt [UNK] in a particularly funny or [UNK] way he was just a crazy [UNK] who was actually rather [UNK] and not fun to watch the editing of the movie was hard to follow it kept [UNK] between fantasy and reality and it was often [UNK] which was which only two or three of the [UNK] [UNK] were really shown you just had to take it on [UNK] that they were indeed [UNK] [UNK] showing their [UNK] would have made for a better movie the [UNK] love story was [UNK] and [UNK] in fact it was silly and poorly written and directed throughout i could go on about the movies [UNK] but you get the idea not worth the 4 [UNK] or the [UNK] it takes to [UNK] to and from the movie [UNK] to rent                                                                                                                                                                                                                                                                                                                                                                                                                                                                                                                                               \n",
            "\n"
          ]
        }
      ],
      "source": [
        "for n in range(3):\n",
        "  print(\"Original: \", example[n].numpy())\n",
        "  print(\"Round-trip: \", \" \".join(vocab[encoded_example[n]]))\n",
        "  print()"
      ]
    },
    {
      "cell_type": "markdown",
      "metadata": {
        "id": "TTwCy4Qglioq"
      },
      "source": [
        "### Buat Model"
      ]
    },
    {
      "cell_type": "code",
      "execution_count": null,
      "metadata": {
        "id": "z_QAq_yClnz-"
      },
      "outputs": [],
      "source": [
        "model = tf.keras.Sequential([\n",
        "    encoder,\n",
        "    tf.keras.layers.Embedding(\n",
        "        input_dim=len(encoder.get_vocabulary()),\n",
        "        output_dim=64,\n",
        "        # Use masking to handle the variable sequence lengths\n",
        "        mask_zero=True),\n",
        "    tf.keras.layers.Bidirectional(tf.keras.layers.LSTM(64)),\n",
        "    tf.keras.layers.Dense(64, activation='relu'),\n",
        "    tf.keras.layers.Dense(1)\n",
        "])"
      ]
    },
    {
      "cell_type": "markdown",
      "metadata": {
        "id": "_pHYenF2mNrW"
      },
      "source": [
        "Harap dicatat bahwa model sekuensial Keras digunakan di sini karena semua lapisan dalam model hanya memiliki masukan tunggal dan menghasilkan keluaran tunggal. Jika Anda ingin menggunakan lapisan RNN stateful, Anda mungkin ingin membangun model Anda dengan API fungsional Keras atau subkelas model sehingga Anda dapat mengambil dan menggunakan kembali status lapisan RNN. Untuk detailnya bisa dilihat pada Keras RNN guide.\n",
        "\n",
        "Lapisan penyematan menggunakan masking (uses masking ) untuk menangani panjang urutan yang bervariasi. Semua lapisan setelah penyematan dukungan penyematan"
      ]
    },
    {
      "cell_type": "code",
      "execution_count": null,
      "metadata": {
        "colab": {
          "base_uri": "https://localhost:8080/"
        },
        "id": "v90tM1dZmNFe",
        "outputId": "8a155caf-76e0-4e17-fd40-5f96f541acc0"
      },
      "outputs": [
        {
          "output_type": "stream",
          "name": "stdout",
          "text": [
            "[False, True, True, True, True]\n"
          ]
        }
      ],
      "source": [
        "print([layer.supports_masking for layer in model.layers])"
      ]
    },
    {
      "cell_type": "markdown",
      "metadata": {
        "id": "KVFeAcLumcoa"
      },
      "source": [
        "Untuk memastikan bahwa ini berfungsi seperti yang diharapkan, evaluasi sebuah kalimat dua kali. Pertama, satu kalimat sehingga tidak ada bantalan (padding) untuk disamarkan:"
      ]
    },
    {
      "cell_type": "code",
      "execution_count": null,
      "metadata": {
        "colab": {
          "base_uri": "https://localhost:8080/"
        },
        "id": "o_rbRRKemeZj",
        "outputId": "1df08176-31b7-4944-86e5-d735ebb2c6b4"
      },
      "outputs": [
        {
          "output_type": "stream",
          "name": "stdout",
          "text": [
            "1/1 [==============================] - 8s 8s/step\n",
            "[-0.00342298]\n"
          ]
        }
      ],
      "source": [
        "# predict on a sample text without padding.\n",
        "\n",
        "sample_text = ('The movie was cool. The animation and the graphics '\n",
        "               'were out of this world. I would recommend this movie.')\n",
        "predictions = model.predict(np.array([sample_text]))\n",
        "print(predictions[0])"
      ]
    },
    {
      "cell_type": "markdown",
      "metadata": {
        "id": "RnpfbUaAmiBb"
      },
      "source": [
        "Sekarang, evaluasi lagi dalam batch dengan kalimat yang lebih panjang. Hasilnya harus sama:"
      ]
    },
    {
      "cell_type": "code",
      "execution_count": null,
      "metadata": {
        "colab": {
          "base_uri": "https://localhost:8080/"
        },
        "id": "VQrOdYksmhq8",
        "outputId": "ef6a953c-1804-42f9-9361-bbbae024c76f"
      },
      "outputs": [
        {
          "output_type": "stream",
          "name": "stdout",
          "text": [
            "1/1 [==============================] - 0s 86ms/step\n",
            "[-0.00342297]\n"
          ]
        }
      ],
      "source": [
        "# predict on a sample text with padding\n",
        "\n",
        "padding = \"the \" * 2000\n",
        "predictions = model.predict(np.array([sample_text, padding]))\n",
        "print(predictions[0])"
      ]
    },
    {
      "cell_type": "markdown",
      "metadata": {
        "id": "npeQHeOlmmoX"
      },
      "source": [
        "compile model Keras untuk mengonfigurasi proses pelatihan:"
      ]
    },
    {
      "cell_type": "code",
      "execution_count": null,
      "metadata": {
        "id": "jIsV1PIJmmUu"
      },
      "outputs": [],
      "source": [
        "model.compile(loss=tf.keras.losses.BinaryCrossentropy(from_logits=True),\n",
        "              optimizer=tf.keras.optimizers.Adam(1e-4),\n",
        "              metrics=['accuracy'])"
      ]
    },
    {
      "cell_type": "markdown",
      "metadata": {
        "id": "tdTSyXKKmqfk"
      },
      "source": [
        "### Train Model"
      ]
    },
    {
      "cell_type": "code",
      "execution_count": null,
      "metadata": {
        "colab": {
          "base_uri": "https://localhost:8080/"
        },
        "id": "GoDlnAfFmqML",
        "outputId": "4fc03a23-4c77-4f62-93cf-b428403d1965"
      },
      "outputs": [
        {
          "output_type": "stream",
          "name": "stdout",
          "text": [
            "Epoch 1/10\n",
            "391/391 [==============================] - 55s 101ms/step - loss: 0.6419 - accuracy: 0.5642 - val_loss: 0.4710 - val_accuracy: 0.7641\n",
            "Epoch 2/10\n",
            "391/391 [==============================] - 27s 70ms/step - loss: 0.4321 - accuracy: 0.7985 - val_loss: 0.4204 - val_accuracy: 0.8094\n",
            "Epoch 3/10\n",
            "391/391 [==============================] - 25s 63ms/step - loss: 0.3829 - accuracy: 0.8280 - val_loss: 0.3914 - val_accuracy: 0.8396\n",
            "Epoch 4/10\n",
            "391/391 [==============================] - 24s 61ms/step - loss: 0.3477 - accuracy: 0.8487 - val_loss: 0.3803 - val_accuracy: 0.8245\n",
            "Epoch 5/10\n",
            "391/391 [==============================] - 27s 69ms/step - loss: 0.3246 - accuracy: 0.8592 - val_loss: 0.3572 - val_accuracy: 0.8568\n",
            "Epoch 6/10\n",
            "391/391 [==============================] - 23s 59ms/step - loss: 0.3141 - accuracy: 0.8643 - val_loss: 0.3428 - val_accuracy: 0.8542\n",
            "Epoch 7/10\n",
            "391/391 [==============================] - 25s 63ms/step - loss: 0.3077 - accuracy: 0.8681 - val_loss: 0.3312 - val_accuracy: 0.8490\n",
            "Epoch 8/10\n",
            "391/391 [==============================] - 26s 66ms/step - loss: 0.3031 - accuracy: 0.8712 - val_loss: 0.3282 - val_accuracy: 0.8505\n",
            "Epoch 9/10\n",
            "391/391 [==============================] - 25s 63ms/step - loss: 0.3011 - accuracy: 0.8718 - val_loss: 0.3298 - val_accuracy: 0.8510\n",
            "Epoch 10/10\n",
            "391/391 [==============================] - 26s 65ms/step - loss: 0.2986 - accuracy: 0.8732 - val_loss: 0.3353 - val_accuracy: 0.8578\n"
          ]
        }
      ],
      "source": [
        "history = model.fit(train_dataset, epochs=10,\n",
        "                    validation_data=test_dataset,\n",
        "                    validation_steps=30)"
      ]
    },
    {
      "cell_type": "code",
      "execution_count": null,
      "metadata": {
        "colab": {
          "base_uri": "https://localhost:8080/"
        },
        "id": "NqADgx3lm2mj",
        "outputId": "af2787af-74a9-4219-f1ac-96ccc84eb2a6"
      },
      "outputs": [
        {
          "output_type": "stream",
          "name": "stdout",
          "text": [
            "391/391 [==============================] - 11s 28ms/step - loss: 0.3287 - accuracy: 0.8624\n",
            "Test Loss: 0.3286663591861725\n",
            "Test Accuracy: 0.8623999953269958\n"
          ]
        }
      ],
      "source": [
        "test_loss, test_acc = model.evaluate(test_dataset)\n",
        "\n",
        "print('Test Loss:', test_loss)\n",
        "print('Test Accuracy:', test_acc)"
      ]
    },
    {
      "cell_type": "code",
      "execution_count": null,
      "metadata": {
        "colab": {
          "base_uri": "https://localhost:8080/",
          "height": 472
        },
        "id": "pQ3ju2SCm3w0",
        "outputId": "e8200bcd-1785-43b2-e982-b941236f0e86"
      },
      "outputs": [
        {
          "output_type": "execute_result",
          "data": {
            "text/plain": [
              "(0.0, 0.6590826824307442)"
            ]
          },
          "metadata": {},
          "execution_count": 17
        },
        {
          "output_type": "display_data",
          "data": {
            "text/plain": [
              "<Figure size 1600x800 with 2 Axes>"
            ],
            "image/png": "[encoded data removed]"
          },
          "metadata": {}
        }
      ],
      "source": [
        "plt.figure(figsize=(16, 8))\n",
        "plt.subplot(1, 2, 1)\n",
        "plot_graphs(history, 'accuracy')\n",
        "plt.ylim(None, 1)\n",
        "plt.subplot(1, 2, 2)\n",
        "plot_graphs(history, 'loss')\n",
        "plt.ylim(0, None)"
      ]
    },
    {
      "cell_type": "markdown",
      "metadata": {
        "id": "jWAGMhadm7AK"
      },
      "source": [
        "Jalankan prediksi pada kalimat baru:\n",
        "Jika prediksi >= 0,0 berarti positif, jika tidak maka negatif."
      ]
    },
    {
      "cell_type": "code",
      "execution_count": null,
      "metadata": {
        "colab": {
          "base_uri": "https://localhost:8080/"
        },
        "id": "xVcMrezwm6Sy",
        "outputId": "a2410046-1f17-4127-dd72-475dffd6aaf0"
      },
      "outputs": [
        {
          "output_type": "stream",
          "name": "stdout",
          "text": [
            "1/1 [==============================] - 3s 3s/step\n"
          ]
        }
      ],
      "source": [
        "sample_text = ('The movie was cool. The animation and the graphics '\n",
        "              'were out of this world. I would recommend this movie.')\n",
        "predictions = model.predict(np.array([sample_text]))"
      ]
    },
    {
      "cell_type": "markdown",
      "metadata": {
        "id": "35k7GRgCnGYM"
      },
      "source": [
        "### Stack two or more LSTM layers\n"
      ]
    },
    {
      "cell_type": "markdown",
      "metadata": {
        "id": "0vwjcBkWnJqF"
      },
      "source": [
        "Hal yang menarik dari penggunaan RNN dengan return_sequences=True adalah outputnya masih memiliki 3 axis, sama seperti inputnya, sehingga bisa diteruskan ke layer RNN lain, seperti ini:"
      ]
    },
    {
      "cell_type": "code",
      "execution_count": null,
      "metadata": {
        "id": "VYLzV8PUnWrx"
      },
      "outputs": [],
      "source": [
        "model = tf.keras.Sequential([\n",
        "    encoder,\n",
        "    tf.keras.layers.Embedding(len(encoder.get_vocabulary()), 64, mask_zero=True),\n",
        "    tf.keras.layers.Bidirectional(tf.keras.layers.LSTM(64,  return_sequences=True)),\n",
        "    tf.keras.layers.Bidirectional(tf.keras.layers.LSTM(32)),\n",
        "    tf.keras.layers.Dense(64, activation='relu'),\n",
        "    tf.keras.layers.Dropout(0.5),\n",
        "    tf.keras.layers.Dense(1)\n",
        "])"
      ]
    },
    {
      "cell_type": "code",
      "execution_count": null,
      "metadata": {
        "id": "WipzYjSMnor4"
      },
      "outputs": [],
      "source": [
        "model.compile(loss=tf.keras.losses.BinaryCrossentropy(from_logits=True),\n",
        "              optimizer=tf.keras.optimizers.Adam(1e-4),\n",
        "              metrics=['accuracy'])"
      ]
    },
    {
      "cell_type": "code",
      "execution_count": null,
      "metadata": {
        "colab": {
          "base_uri": "https://localhost:8080/"
        },
        "id": "VE3G9m4Qn2Or",
        "outputId": "1507f9eb-218e-406d-dbb6-7154ec137e84"
      },
      "outputs": [
        {
          "output_type": "stream",
          "name": "stdout",
          "text": [
            "1/1 [==============================] - 6s 6s/step\n",
            "[0.01188091]\n"
          ]
        }
      ],
      "source": [
        "padding = \"the \" * 2000\n",
        "predictions = model.predict(np.array([sample_text, padding]))\n",
        "print(predictions[0])"
      ]
    },
    {
      "cell_type": "code",
      "execution_count": null,
      "metadata": {
        "id": "NOSDZYoAn_1J",
        "outputId": "3f084033-2e98-4589-ec0d-7bf8d05e48af",
        "colab": {
          "base_uri": "https://localhost:8080/"
        }
      },
      "outputs": [
        {
          "output_type": "stream",
          "name": "stdout",
          "text": [
            "391/391 [==============================] - 31s 55ms/step - loss: 0.6930 - accuracy: 0.5000\n",
            "Test Loss: 0.6930156350135803\n",
            "Test Accuracy: 0.5\n"
          ]
        }
      ],
      "source": [
        "test_loss, test_acc = model.evaluate(test_dataset)\n",
        "\n",
        "print('Test Loss:', test_loss)\n",
        "print('Test Accuracy:', test_acc)"
      ]
    },
    {
      "cell_type": "code",
      "execution_count": null,
      "metadata": {
        "id": "kJHD4YdMoNG_",
        "outputId": "6f266a40-c600-4a56-9902-90c1b823005c",
        "colab": {
          "base_uri": "https://localhost:8080/"
        }
      },
      "outputs": [
        {
          "output_type": "stream",
          "name": "stdout",
          "text": [
            "1/1 [==============================] - 0s 24ms/step\n",
            "[[0.00838307]]\n"
          ]
        }
      ],
      "source": [
        "# predict on a sample text without padding.\n",
        "\n",
        "sample_text = ('The movie was not good. The animation and the graphics '\n",
        "               'were terrible. I would not recommend this movie.')\n",
        "predictions = model.predict(np.array([sample_text]))\n",
        "print(predictions)"
      ]
    },
    {
      "cell_type": "code",
      "execution_count": null,
      "metadata": {
        "id": "rWUPNbrLoVfM",
        "outputId": "01e3df36-2b5c-42c4-e9c7-45fa6e0a1e29",
        "colab": {
          "base_uri": "https://localhost:8080/",
          "height": 350
        }
      },
      "outputs": [
        {
          "output_type": "display_data",
          "data": {
            "text/plain": [
              "<Figure size 1600x600 with 2 Axes>"
            ],
            "image/png": "[encoded data removed]"
          },
          "metadata": {}
        }
      ],
      "source": [
        "plt.figure(figsize=(16, 6))\n",
        "plt.subplot(1, 2, 1)\n",
        "plot_graphs(history, 'accuracy')\n",
        "plt.subplot(1, 2, 2)\n",
        "plot_graphs(history, 'loss')"
      ]
    },
    {
      "cell_type": "markdown",
      "metadata": {
        "id": "gPLQRsVEoYU9"
      },
      "source": [
        "## Praktikum 2\n",
        "Generator Teks dengan RNN"
      ]
    },
    {
      "cell_type": "markdown",
      "metadata": {
        "id": "j3DnpQdRof9U"
      },
      "source": [
        "Praktikum ini mendemonstrasikan cara melakukan genearsi text menggunakan RNN. Dataset yang digunkan adalah dataset Shakespeare's writing from Andrej Karpathy's The Unreasonable Effectiveness of Recurrent Neural Networks. Jika diberikan urutan karakter dari data ini (\"Shakespear\"), latih model untuk memprediksi karakter berikutnya dalam urutan (\"e\"). Urutan teks yang lebih panjang dapat dihasilkan dengan memanggil model berulang kali.\n",
        "\n",
        "Note: Enable GPU acceleration to execute this notebook faster. In Colab: Runtime > Change runtime type > Hardware accelerator > GPU.\n",
        "\n",
        "Tutorial ini menggunakan tf.keras dan eager execution. Berikut adalah contoh output ketika model dalam tutorial ini dilatih selama 30 epoch, dan dimulai dengan prompt \"Q\":"
      ]
    },
    {
      "cell_type": "markdown",
      "metadata": {
        "id": "rS5_zJ8ko_2F"
      },
      "source": [
        "**QUEENE:**\n",
        "I had thought thou hadst a Roman; for the oracle,\n",
        "Thus by All bids the man against the word,\n",
        "Which are so weak of care, by old care done;\n",
        "Your children were in your holy love,\n",
        "And the precipitation through the bleeding throne.\n",
        "\n",
        "**BISHOP OF ELY:**\n",
        "Marry, and will, my lord, to weep in such a one were prettiest;\n",
        "Yet now I was adopted heir\n",
        "Of the world's lamentable day,\n",
        "To watch the next way with his father with his face?\n",
        "\n",
        "**ESCALUS:**\n",
        "The cause why then we are all resolved more sons.\n",
        "\n",
        "**VOLUMNIA:**\n",
        "O, no, no, no, no, no, no, no, no, no, no, no, no, no, no, no, no, no, no, no, no, it is no sin it should be dead,\n",
        "And love and pale as any will to that word.\n",
        "\n",
        "**QUEEN ELIZABETH:**\n",
        "But how long have I heard the soul for this world,\n",
        "And show his hands of life be proved to stand.\n",
        "\n",
        "**PETRUCHIO:**\n",
        "I say he look'd on, if I must be content\n",
        "To stay him from the fatal of our country's bliss.\n",
        "His lordship pluck'd from this sentence then for prey,\n",
        "And then let us twain, being the moon,\n",
        "were she such a case as fills m"
      ]
    },
    {
      "cell_type": "markdown",
      "metadata": {
        "id": "VPkL9JITpQrY"
      },
      "source": [
        "Meskipun beberapa kalimat memiliki tata bahasa, sebagian besar tidak masuk akal. Model belum mempelajari arti kata-kata, namun anggap saja:\n",
        "*  Modelnya berbasis karakter. Saat pelatihan dimulai, model tidak mengetahui cara mengeja kata dalam bahasa Inggris, atau bahkan kata-kata tersebut merupakan satuan teks.\n",
        "*  Struktur keluarannya menyerupai sandiwara—blok teks umumnya dimulai dengan nama pembicara, dengan huruf kapital semua mirip dengan kumpulan data.\n",
        "*  Seperti yang ditunjukkan di bawah, model dilatih pada kumpulan teks kecil (masing-masing 100 karakter), dan masih mampu menghasilkan rangkaian teks yang lebih panjang dengan struktur yang koheren."
      ]
    },
    {
      "cell_type": "markdown",
      "metadata": {
        "id": "J3MM25_CpaCL"
      },
      "source": [
        "### Setup"
      ]
    },
    {
      "cell_type": "markdown",
      "metadata": {
        "id": "Si_Po1tkpZ-z"
      },
      "source": [
        "### Import TensorFlow"
      ]
    },
    {
      "cell_type": "code",
      "execution_count": null,
      "metadata": {
        "id": "llLWXljMoxdN"
      },
      "outputs": [],
      "source": [
        "import tensorflow as tf\n",
        "import numpy as np\n",
        "import os\n",
        "import time"
      ]
    },
    {
      "cell_type": "markdown",
      "metadata": {
        "id": "TmQtMKFxpgLx"
      },
      "source": [
        "### Download Dataset Shakespeare\n",
        "Sesuaikan dengan lokasi data yang Anda punya."
      ]
    },
    {
      "cell_type": "code",
      "execution_count": null,
      "metadata": {
        "id": "ESFMOv5Apkzq",
        "outputId": "855b830e-0886-424d-8fe5-8e264b1a0f25",
        "colab": {
          "base_uri": "https://localhost:8080/"
        }
      },
      "outputs": [
        {
          "output_type": "stream",
          "name": "stdout",
          "text": [
            "Downloading data from https://storage.googleapis.com/download.tensorflow.org/data/shakespeare.txt\n",
            "1115394/1115394 [==============================] - 0s 0us/step\n"
          ]
        }
      ],
      "source": [
        "path_to_file = tf.keras.utils.get_file('shakespeare.txt', 'https://storage.googleapis.com/download.tensorflow.org/data/shakespeare.txt')"
      ]
    },
    {
      "cell_type": "markdown",
      "metadata": {
        "id": "BAiGflckprji"
      },
      "source": [
        "### Load Data"
      ]
    },
    {
      "cell_type": "code",
      "execution_count": null,
      "metadata": {
        "id": "EVjJ5e1HpuNy",
        "outputId": "d481f103-54de-48b3-a1e2-9bdeef97fb10",
        "colab": {
          "base_uri": "https://localhost:8080/"
        }
      },
      "outputs": [
        {
          "output_type": "stream",
          "name": "stdout",
          "text": [
            "Length of text: 1115394 characters\n"
          ]
        }
      ],
      "source": [
        "# Read, then decode for py2 compat.\n",
        "text = open(path_to_file, 'rb').read().decode(encoding='utf-8')\n",
        "# length of text is the number of characters in it\n",
        "print(f'Length of text: {len(text)} characters')"
      ]
    },
    {
      "cell_type": "code",
      "execution_count": null,
      "metadata": {
        "id": "TnosPMZ5pxOu",
        "outputId": "d74e72c4-3172-4c98-8bfa-b2e016afcc52",
        "colab": {
          "base_uri": "https://localhost:8080/"
        }
      },
      "outputs": [
        {
          "output_type": "stream",
          "name": "stdout",
          "text": [
            "First Citizen:\n",
            "Before we proceed any further, hear me speak.\n",
            "\n",
            "All:\n",
            "Speak, speak.\n",
            "\n",
            "First Citizen:\n",
            "You are all resolved rather to die than to famish?\n",
            "\n",
            "All:\n",
            "Resolved. resolved.\n",
            "\n",
            "First Citizen:\n",
            "First, you know Caius Marcius is chief enemy to the people.\n",
            "\n"
          ]
        }
      ],
      "source": [
        "# Take a look at the first 250 characters in text\n",
        "print(text[:250])"
      ]
    },
    {
      "cell_type": "code",
      "execution_count": null,
      "metadata": {
        "id": "ljDNMkztpxDA",
        "outputId": "0e51417e-70cc-499a-b6f8-922f06a8dc0e",
        "colab": {
          "base_uri": "https://localhost:8080/"
        }
      },
      "outputs": [
        {
          "output_type": "stream",
          "name": "stdout",
          "text": [
            "65 unique characters\n"
          ]
        }
      ],
      "source": [
        "# The unique characters in the file\n",
        "vocab = sorted(set(text))\n",
        "print(f'{len(vocab)} unique characters')"
      ]
    },
    {
      "cell_type": "markdown",
      "metadata": {
        "id": "JnHlvMUtpwBm"
      },
      "source": [
        "### Olah Teks"
      ]
    },
    {
      "cell_type": "markdown",
      "metadata": {
        "id": "1eoUzIbGp4Fw"
      },
      "source": [
        "### Vectorize Teks\n",
        "Sebelum training, Anda perlu mengonversi string menjadi representasi numerik. tf.keras.layers.StringLookup dapat mengubah setiap karakter menjadi ID numerik. Caranya adalah teks akan dipecah menjadi token terlebih dahulu."
      ]
    },
    {
      "cell_type": "code",
      "execution_count": null,
      "metadata": {
        "id": "Np3mcMtBp9JD",
        "outputId": "5df58c26-7e58-4eab-b40c-ba2b875d6fa8",
        "colab": {
          "base_uri": "https://localhost:8080/"
        }
      },
      "outputs": [
        {
          "output_type": "execute_result",
          "data": {
            "text/plain": [
              "<tf.RaggedTensor [[b'a', b'b', b'c', b'd', b'e', b'f', b'g'], [b'x', b'y', b'z']]>"
            ]
          },
          "metadata": {},
          "execution_count": 30
        }
      ],
      "source": [
        "example_texts = ['abcdefg','xyz']\n",
        "chars = tf.strings.unicode_split(example_texts,input_encoding='UTF-8')\n",
        "chars"
      ]
    },
    {
      "cell_type": "markdown",
      "metadata": {
        "id": "sg5lHEnHqHNl"
      },
      "source": [
        "sekarang buat\n",
        "\n",
        " tf.keras.layers.StringLookup layer:"
      ]
    },
    {
      "cell_type": "code",
      "execution_count": null,
      "metadata": {
        "id": "1_Dz6hBqqLS2"
      },
      "outputs": [],
      "source": [
        "ids_from_chars=tf.keras.layers.StringLookup(\n",
        "vocabulary=list(vocab),mask_token=None)"
      ]
    },
    {
      "cell_type": "markdown",
      "metadata": {
        "id": "li-wEzTbqPup"
      },
      "source": [
        "perintah diatas mengconvert token menjadi id"
      ]
    },
    {
      "cell_type": "code",
      "execution_count": null,
      "metadata": {
        "id": "Cd8iZ5HcqSIx",
        "outputId": "215b21d4-d4c9-405f-8662-c26e53357634",
        "colab": {
          "base_uri": "https://localhost:8080/"
        }
      },
      "outputs": [
        {
          "output_type": "execute_result",
          "data": {
            "text/plain": [
              "<tf.RaggedTensor [[40, 41, 42, 43, 44, 45, 46], [63, 64, 65]]>"
            ]
          },
          "metadata": {},
          "execution_count": 32
        }
      ],
      "source": [
        "ids=ids_from_chars(chars)\n",
        "ids"
      ]
    },
    {
      "cell_type": "markdown",
      "metadata": {
        "id": "yK6Dzip-qUWw"
      },
      "source": [
        "Karena tujuan tutorial ini adalah untuk menghasilkan teks, penting juga untuk membalikkan representasi ini. Untuk ini Anda dapat menggunakan kode tf.keras.layers.StringLookup(..., invert=True).\n",
        "\n",
        "\n",
        "Catatan: pada kode ini, daripada meneruskan kosakata asli yang dihasilkan dengan diurutkan(set(teks)) gunakan metode get_vocabulary() dari tf.keras.layers.StringLookup sehingga token [UNK] disetel dengan cara yang sama."
      ]
    },
    {
      "cell_type": "code",
      "execution_count": null,
      "metadata": {
        "id": "7seCdvk5qZFU"
      },
      "outputs": [],
      "source": [
        "chars_from_ids = tf.keras.layers.StringLookup(\n",
        "    vocabulary=ids_from_chars.get_vocabulary(), invert=True, mask_token=None)"
      ]
    },
    {
      "cell_type": "markdown",
      "metadata": {
        "id": "Y3nh04qjqHhS"
      },
      "source": [
        "Lapisan ini mengconvert kembali karakter dari vektor ID, dan mengembalikannya sebagai karakter tf.RaggedTensor:"
      ]
    },
    {
      "cell_type": "code",
      "execution_count": null,
      "metadata": {
        "id": "LGz-VQsfqegD",
        "outputId": "34323943-85fb-447b-f296-723d3b8837f5",
        "colab": {
          "base_uri": "https://localhost:8080/"
        }
      },
      "outputs": [
        {
          "output_type": "execute_result",
          "data": {
            "text/plain": [
              "<tf.RaggedTensor [[b'a', b'b', b'c', b'd', b'e', b'f', b'g'], [b'x', b'y', b'z']]>"
            ]
          },
          "metadata": {},
          "execution_count": 34
        }
      ],
      "source": [
        "chars=chars_from_ids(ids)\n",
        "chars"
      ]
    },
    {
      "cell_type": "markdown",
      "metadata": {
        "id": "OHZd-NhJqg5G"
      },
      "source": [
        "Anda dapat menggunakan tf.strings.reduce_join untuk menggabungkan kembali karakter menjadi string."
      ]
    },
    {
      "cell_type": "code",
      "execution_count": null,
      "metadata": {
        "id": "E-RkDCYyqipm",
        "outputId": "a86519bb-1976-458e-8ac5-9afdd028318d",
        "colab": {
          "base_uri": "https://localhost:8080/"
        }
      },
      "outputs": [
        {
          "output_type": "execute_result",
          "data": {
            "text/plain": [
              "array([b'abcdefg', b'xyz'], dtype=object)"
            ]
          },
          "metadata": {},
          "execution_count": 35
        }
      ],
      "source": [
        "tf.strings.reduce_join(chars,axis=-1).numpy()"
      ]
    },
    {
      "cell_type": "code",
      "execution_count": null,
      "metadata": {
        "id": "GDy_0-dNqlaw"
      },
      "outputs": [],
      "source": [
        "def text_from_ids(ids):\n",
        "    return tf.strings.reduce_join(chars_from_ids(ids),axis=-1)"
      ]
    },
    {
      "cell_type": "markdown",
      "metadata": {
        "id": "C_hTL90OqqG3"
      },
      "source": [
        "### Prediksi\n",
        "Diberikan sebuah karakter, atau serangkaian karakter, karakter apa yang paling mungkin berikutnya? Ini adalah tugas yang harus Anda latih agar model dapat melakukannya. Masukan ke model akan berupa urutan karakter, dan Anda melatih model untuk memprediksi keluaran berupa karakter berikut pada setiap langkah waktu. Karena RNN mempertahankan keadaan internal yang bergantung pada elemen yang terlihat sebelumnya, mengingat semua karakter dihitung hingga saat ini, karakter apa selanjutnya?\n",
        "\n",
        "### Membuat Trianing Set dan Target\n",
        "Selanjutnya bagilah teks menjadi contoh sequence. Setiap masukan sequence akan berisi karakter seq_length dari teks. Untuk setiap masukan sequence, target prediksi berisi teks dengan panjang yang sama, hanya digeser satu karakter ke kanan. Jadi, bagi teks menjadi beberapa bagian seq_length+1. Misalnya, seq_length adalah 4 dan teks kita adalah \"Hello\". Urutan masukannya adalah \"Hell\", dan urutan targetnya adalah \"ello\". Untuk melakukan ini, pertama-tama gunakan fungsi tf.data.Dataset.from_tensor_slices untuk mengonversi vektor teks menjadi aliran indeks karakter."
      ]
    },
    {
      "cell_type": "code",
      "execution_count": null,
      "metadata": {
        "id": "BwVSQEN3qsss",
        "outputId": "a70858dc-b2e2-443b-e560-d1afc7a77c97",
        "colab": {
          "base_uri": "https://localhost:8080/"
        }
      },
      "outputs": [
        {
          "output_type": "execute_result",
          "data": {
            "text/plain": [
              "<tf.Tensor: shape=(1115394,), dtype=int64, numpy=array([19, 48, 57, ..., 46,  9,  1])>"
            ]
          },
          "metadata": {},
          "execution_count": 38
        }
      ],
      "source": [
        "all_ids = ids_from_chars(tf.strings.unicode_split(text, 'UTF-8'))\n",
        "all_ids"
      ]
    },
    {
      "cell_type": "code",
      "execution_count": null,
      "metadata": {
        "id": "GKGV4qbmq3-3"
      },
      "outputs": [],
      "source": [
        "ids_dataset=tf.data.Dataset.from_tensor_slices(all_ids)"
      ]
    },
    {
      "cell_type": "code",
      "execution_count": null,
      "metadata": {
        "id": "esVCL0MKq6Ea",
        "outputId": "62a869d0-5d07-4d82-f24e-ad96c9981f86",
        "colab": {
          "base_uri": "https://localhost:8080/"
        }
      },
      "outputs": [
        {
          "output_type": "stream",
          "name": "stdout",
          "text": [
            "F\n",
            "i\n",
            "r\n",
            "s\n",
            "t\n",
            " \n",
            "C\n",
            "i\n",
            "t\n",
            "i\n"
          ]
        }
      ],
      "source": [
        "for ids in ids_dataset.take(10):\n",
        "    print(chars_from_ids(ids).numpy().decode('utf-8'))"
      ]
    },
    {
      "cell_type": "code",
      "execution_count": null,
      "metadata": {
        "id": "icqq6nSHrAFr"
      },
      "outputs": [],
      "source": [
        "seq_length = 100"
      ]
    },
    {
      "cell_type": "markdown",
      "metadata": {
        "id": "QijOw0yBrLE3"
      },
      "source": [
        "Metode batch memungkinkan Anda dengan mudah mengonversi karakter individual ini menjadi urutan ukuran yang diinginkan."
      ]
    },
    {
      "cell_type": "code",
      "execution_count": null,
      "metadata": {
        "id": "vKv3mcU7rL8N",
        "outputId": "e6307a49-77fc-4c7e-ff09-978f2422f1fc",
        "colab": {
          "base_uri": "https://localhost:8080/"
        }
      },
      "outputs": [
        {
          "output_type": "stream",
          "name": "stdout",
          "text": [
            "tf.Tensor(\n",
            "[b'F' b'i' b'r' b's' b't' b' ' b'C' b'i' b't' b'i' b'z' b'e' b'n' b':'\n",
            " b'\\n' b'B' b'e' b'f' b'o' b'r' b'e' b' ' b'w' b'e' b' ' b'p' b'r' b'o'\n",
            " b'c' b'e' b'e' b'd' b' ' b'a' b'n' b'y' b' ' b'f' b'u' b'r' b't' b'h'\n",
            " b'e' b'r' b',' b' ' b'h' b'e' b'a' b'r' b' ' b'm' b'e' b' ' b's' b'p'\n",
            " b'e' b'a' b'k' b'.' b'\\n' b'\\n' b'A' b'l' b'l' b':' b'\\n' b'S' b'p' b'e'\n",
            " b'a' b'k' b',' b' ' b's' b'p' b'e' b'a' b'k' b'.' b'\\n' b'\\n' b'F' b'i'\n",
            " b'r' b's' b't' b' ' b'C' b'i' b't' b'i' b'z' b'e' b'n' b':' b'\\n' b'Y'\n",
            " b'o' b'u' b' '], shape=(101,), dtype=string)\n"
          ]
        }
      ],
      "source": [
        "sequences = ids_dataset.batch(seq_length+1, drop_remainder=True)\n",
        "\n",
        "for seq in sequences.take(1):\n",
        "  print(chars_from_ids(seq))"
      ]
    },
    {
      "cell_type": "markdown",
      "metadata": {
        "id": "IoDFYIzarNeS"
      },
      "source": [
        "akan lebih mudah untuk melihat apa yang dilakukan jika Anda menggabungkan token kembali menjadi string:"
      ]
    },
    {
      "cell_type": "code",
      "execution_count": null,
      "metadata": {
        "id": "NqaHL48JrRBX",
        "outputId": "dfeab248-092a-4282-8d00-a07058dcf6c9",
        "colab": {
          "base_uri": "https://localhost:8080/"
        }
      },
      "outputs": [
        {
          "output_type": "stream",
          "name": "stdout",
          "text": [
            "b'First Citizen:\\nBefore we proceed any further, hear me speak.\\n\\nAll:\\nSpeak, speak.\\n\\nFirst Citizen:\\nYou '\n",
            "b'are all resolved rather to die than to famish?\\n\\nAll:\\nResolved. resolved.\\n\\nFirst Citizen:\\nFirst, you k'\n",
            "b\"now Caius Marcius is chief enemy to the people.\\n\\nAll:\\nWe know't, we know't.\\n\\nFirst Citizen:\\nLet us ki\"\n",
            "b\"ll him, and we'll have corn at our own price.\\nIs't a verdict?\\n\\nAll:\\nNo more talking on't; let it be d\"\n",
            "b'one: away, away!\\n\\nSecond Citizen:\\nOne word, good citizens.\\n\\nFirst Citizen:\\nWe are accounted poor citi'\n"
          ]
        }
      ],
      "source": [
        "for seq in sequences.take(5):\n",
        "    print(text_from_ids(seq).numpy())"
      ]
    },
    {
      "cell_type": "markdown",
      "metadata": {
        "id": "sdesWl7mrpmJ"
      },
      "source": [
        "Untuk pelatihan, Anda memerlukan kumpulan data pasangan (input, label). Dimana input dan label merupakan urutan. Pada setiap langkah waktu, inputnya adalah karakter saat ini dan labelnya adalah karakter berikutnya. Berikut adalah fungsi yang mengambil urutan sebagai masukan, menduplikasi, dan menggesernya untuk menyelaraskan masukan dan label untuk setiap langkah waktu:"
      ]
    },
    {
      "cell_type": "code",
      "execution_count": null,
      "metadata": {
        "id": "vVcl1JsFrqf8"
      },
      "outputs": [],
      "source": [
        "def split_input_target(sequence):\n",
        "  input_text=sequence[:-1]\n",
        "  target_text=sequence[1:]\n",
        "  return input_text, target_text"
      ]
    },
    {
      "cell_type": "code",
      "execution_count": null,
      "metadata": {
        "id": "vt7bT9lMr0vK",
        "outputId": "a6c6248c-6766-45bd-c7de-8b07e702122d",
        "colab": {
          "base_uri": "https://localhost:8080/"
        }
      },
      "outputs": [
        {
          "output_type": "execute_result",
          "data": {
            "text/plain": [
              "(['T', 'e', 'n', 's', 'o', 'r', 'f', 'l', 'o'],\n",
              " ['e', 'n', 's', 'o', 'r', 'f', 'l', 'o', 'w'])"
            ]
          },
          "metadata": {},
          "execution_count": 45
        }
      ],
      "source": [
        "split_input_target(list(\"Tensorflow\"))"
      ]
    },
    {
      "cell_type": "code",
      "execution_count": null,
      "metadata": {
        "id": "nfDnvyHQr2Ol"
      },
      "outputs": [],
      "source": [
        "dataset = sequences.map(split_input_target)"
      ]
    },
    {
      "cell_type": "code",
      "execution_count": null,
      "metadata": {
        "id": "S1h53Wg6r5Kq",
        "outputId": "dde46e33-45b3-4d77-dc03-749b8627d068",
        "colab": {
          "base_uri": "https://localhost:8080/"
        }
      },
      "outputs": [
        {
          "output_type": "stream",
          "name": "stdout",
          "text": [
            "Input : b'First Citizen:\\nBefore we proceed any further, hear me speak.\\n\\nAll:\\nSpeak, speak.\\n\\nFirst Citizen:\\nYou'\n",
            "Target: b'irst Citizen:\\nBefore we proceed any further, hear me speak.\\n\\nAll:\\nSpeak, speak.\\n\\nFirst Citizen:\\nYou '\n"
          ]
        }
      ],
      "source": [
        "for input_example, target_example in dataset.take(1):\n",
        "  print(\"Input :\", text_from_ids(input_example).numpy())\n",
        "  print(\"Target:\", text_from_ids(target_example).numpy())"
      ]
    },
    {
      "cell_type": "markdown",
      "metadata": {
        "id": "zEosAEjcsA6o"
      },
      "source": [
        "### Membuat Batch Training\n",
        "Anda menggunakan tf.data untuk membagi teks menjadi sequence yang dapat diatur. Namun sebelum memasukkan data ini ke dalam model, Anda perlu mengacak data dan mengemasnya ke dalam batch."
      ]
    },
    {
      "cell_type": "code",
      "execution_count": null,
      "metadata": {
        "id": "bFnv20PxsEAE",
        "outputId": "14cc15eb-5826-437e-feef-490ec52ec5e0",
        "colab": {
          "base_uri": "https://localhost:8080/"
        }
      },
      "outputs": [
        {
          "output_type": "execute_result",
          "data": {
            "text/plain": [
              "<_PrefetchDataset element_spec=(TensorSpec(shape=(64, 100), dtype=tf.int64, name=None), TensorSpec(shape=(64, 100), dtype=tf.int64, name=None))>"
            ]
          },
          "metadata": {},
          "execution_count": 48
        }
      ],
      "source": [
        "# Batch size\n",
        "BATCH_SIZE = 64\n",
        "\n",
        "# Buffer size to shuffle the dataset\n",
        "# (TF data is designed to work with possibly infinite sequences,\n",
        "# so it doesn't attempt to shuffle the entire sequence in memory. Instead,\n",
        "# it maintains a buffer in which it shuffles elements).\n",
        "BUFFER_SIZE = 10000\n",
        "\n",
        "dataset = (\n",
        "    dataset\n",
        "    .shuffle(BUFFER_SIZE)\n",
        "    .batch(BATCH_SIZE, drop_remainder=True)\n",
        "    .prefetch(tf.data.experimental.AUTOTUNE))\n",
        "\n",
        "dataset"
      ]
    },
    {
      "cell_type": "markdown",
      "metadata": {
        "id": "RNSt6-pysFrK"
      },
      "source": [
        "### Buat Model"
      ]
    },
    {
      "cell_type": "markdown",
      "metadata": {
        "id": "Xi7Iu4SVsJbs"
      },
      "source": [
        "Bagian ini mendefinisikan model sebagai subkelas keras.Model (untuk lebih detilnya, lihat Making new Layers and Models via subclassing).\n",
        "\n",
        "\n",
        "Model yang kita bangun memiliki 3 lapisan neural network :\n",
        "*  tf.keras.layers.Embedding: Lapisan masukan. Tabel pencarian yang dapat dilatih yang akan memetakan setiap karakter-ID ke vektor dengan dimensi embedding_dim;\n",
        "*  tf.keras.layers.GRU: lapisan RNN dengan ukuran unit=rnn_units (Anda juga dapat menggunakan lapisan LSTM di sini.)\n",
        "*  tf.keras.layers.Dense: Lapisan keluaran, dengan keluaran vocab_size. Ini menghasilkan satu logit untuk setiap karakter dalam kosakata. Ini adalah log kemungkinan setiap karakter menurut model."
      ]
    },
    {
      "cell_type": "code",
      "execution_count": null,
      "metadata": {
        "id": "Pn6g2lmbsTeA"
      },
      "outputs": [],
      "source": [
        "# Length of the vocabulary in StringLookup Layer\n",
        "vocab_size = len(ids_from_chars.get_vocabulary())\n",
        "\n",
        "# The embedding dimension\n",
        "embedding_dim = 256\n",
        "\n",
        "# Number of RNN units\n",
        "rnn_units = 1024"
      ]
    },
    {
      "cell_type": "code",
      "execution_count": null,
      "metadata": {
        "id": "0I4cEhWhsUen"
      },
      "outputs": [],
      "source": [
        "class MyModel(tf.keras.Model):\n",
        "  def __init__(self, vocab_size, embedding_dim, rnn_units):\n",
        "    super().__init__(self)\n",
        "    self.embedding = tf.keras.layers.Embedding(vocab_size, embedding_dim)\n",
        "    self.gru = tf.keras.layers.GRU(rnn_units,\n",
        "                                   return_sequences=True,\n",
        "                                   return_state=True)\n",
        "    self.dense = tf.keras.layers.Dense(vocab_size)\n",
        "\n",
        "  def call(self, inputs, states=None, return_state=False, training=False):\n",
        "    x = inputs\n",
        "    x = self.embedding(x, training=training)\n",
        "    if states is None:\n",
        "      states = self.gru.get_initial_state(x)\n",
        "    x, states = self.gru(x, initial_state=states, training=training)\n",
        "    x = self.dense(x, training=training)\n",
        "\n",
        "    if return_state:\n",
        "      return x, states\n",
        "    else:\n",
        "      return x"
      ]
    },
    {
      "cell_type": "code",
      "execution_count": null,
      "metadata": {
        "id": "POfkQ-9_sXEI"
      },
      "outputs": [],
      "source": [
        "model = MyModel(\n",
        "    vocab_size=vocab_size,\n",
        "    embedding_dim=embedding_dim,\n",
        "    rnn_units=rnn_units)"
      ]
    },
    {
      "cell_type": "markdown",
      "metadata": {
        "id": "krrfAXLhscbP"
      },
      "source": [
        "### Uji Model"
      ]
    },
    {
      "cell_type": "markdown",
      "metadata": {
        "id": "IY4bIBBisd_6"
      },
      "source": [
        "Coba jalankan model dan cek apakah sidah sesuai dengan output\n",
        "pertama, cek bentuk dari output"
      ]
    },
    {
      "cell_type": "code",
      "execution_count": null,
      "metadata": {
        "id": "gBNs6gGpsg84",
        "outputId": "40562a36-209c-4032-8173-3a1ee98e8cee",
        "colab": {
          "base_uri": "https://localhost:8080/"
        }
      },
      "outputs": [
        {
          "output_type": "stream",
          "name": "stdout",
          "text": [
            "(64, 100, 66) # (batch_size, sequence_length, vocab_size)\n"
          ]
        }
      ],
      "source": [
        "for input_example_batch, target_example_batch in dataset.take(1):\n",
        "    example_batch_predictions = model(input_example_batch)\n",
        "    print(example_batch_predictions.shape, \"# (batch_size, sequence_length, vocab_size)\")"
      ]
    },
    {
      "cell_type": "markdown",
      "metadata": {
        "id": "qulZwH92sktu"
      },
      "source": [
        "Dalam contoh di atas, panjang urutan masukan adalah 100 tetapi model dapat dijalankan pada masukan dengan panjang berapa pun:"
      ]
    },
    {
      "cell_type": "code",
      "execution_count": null,
      "metadata": {
        "id": "cMegpaHOsln0",
        "outputId": "c9f8632b-f7c9-46dd-c598-2b05a7b36221",
        "colab": {
          "base_uri": "https://localhost:8080/"
        }
      },
      "outputs": [
        {
          "output_type": "stream",
          "name": "stdout",
          "text": [
            "Model: \"my_model\"\n",
            "_________________________________________________________________\n",
            " Layer (type)                Output Shape              Param #   \n",
            "=================================================================\n",
            " embedding_2 (Embedding)     multiple                  16896     \n",
            "                                                                 \n",
            " gru (GRU)                   multiple                  3938304   \n",
            "                                                                 \n",
            " dense_4 (Dense)             multiple                  67650     \n",
            "                                                                 \n",
            "=================================================================\n",
            "Total params: 4022850 (15.35 MB)\n",
            "Trainable params: 4022850 (15.35 MB)\n",
            "Non-trainable params: 0 (0.00 Byte)\n",
            "_________________________________________________________________\n"
          ]
        }
      ],
      "source": [
        "model.summary()"
      ]
    },
    {
      "cell_type": "markdown",
      "metadata": {
        "id": "UdL7Mi_Esnfx"
      },
      "source": [
        "Untuk mendapatkan prediksi aktual dari model, Anda perlu mengambil sampel dari distribusi keluaran, untuk mendapatkan indeks karakter aktual. Distribusi ini ditentukan oleh logit pada kosakata karakter. Catatan: Penting untuk mengambil sampel dari distribusi ini karena mengambil argmax dari distribusi tersebut dapat dengan mudah membuat model terjebak dalam infinote loop. Cobalah untuk contoh pertama di batch:"
      ]
    },
    {
      "cell_type": "code",
      "execution_count": null,
      "metadata": {
        "id": "VqD5z3Xfsqqd"
      },
      "outputs": [],
      "source": [
        "sampled_indices = tf.random.categorical(example_batch_predictions[0], num_samples=1)\n",
        "sampled_indices = tf.squeeze(sampled_indices, axis=-1).numpy()"
      ]
    },
    {
      "cell_type": "markdown",
      "metadata": {
        "id": "--b3-YjtswCn"
      },
      "source": [
        "Hal ini memberi kita, pada setiap langkah waktu, prediksi indeks karakter berikutnya:"
      ]
    },
    {
      "cell_type": "code",
      "execution_count": null,
      "metadata": {
        "id": "8nvFRPVOsyZp",
        "outputId": "536aca13-16b1-4fcd-ebfe-ad845a1e9498",
        "colab": {
          "base_uri": "https://localhost:8080/"
        }
      },
      "outputs": [
        {
          "output_type": "execute_result",
          "data": {
            "text/plain": [
              "array([52, 40, 17, 63, 11, 14, 22, 32, 11, 15, 57,  8, 51, 17,  9, 26, 60,\n",
              "       64, 19, 15, 13, 56,  0, 37, 27, 56, 58, 64, 64, 25, 15, 41, 50, 18,\n",
              "       43, 37,  7, 25,  6, 50, 23, 50, 21,  8, 33, 32, 32, 37, 38, 56, 10,\n",
              "       17, 13,  9, 33, 43, 38, 62, 65, 60, 36, 59, 48,  3,  4, 28, 29, 22,\n",
              "       13, 10, 26, 62, 55, 59, 53, 42, 51, 57, 58, 25, 52, 29,  2, 29, 30,\n",
              "       52, 21, 25, 50, 27, 10, 28, 63, 60, 28, 53, 30, 63, 40, 14])"
            ]
          },
          "metadata": {},
          "execution_count": 55
        }
      ],
      "source": [
        "sampled_indices"
      ]
    },
    {
      "cell_type": "markdown",
      "metadata": {
        "id": "FpAr8w3asz2H"
      },
      "source": [
        "Dekode kode berikut untuk melihat teks yang diprediksi oleh model tidak terlatih ini:"
      ]
    },
    {
      "cell_type": "code",
      "execution_count": null,
      "metadata": {
        "id": "1khmAIRSs43J",
        "outputId": "52ca04cb-37e3-4308-9e58-33626fd5eed7",
        "colab": {
          "base_uri": "https://localhost:8080/"
        }
      },
      "outputs": [
        {
          "output_type": "stream",
          "name": "stdout",
          "text": [
            "Input:\n",
            " b' thy crown,\\nThou smiling while he knit his angry brows:\\nHe, but a duke, would have his son a king,\\nA'\n"
          ]
        }
      ],
      "source": [
        "print(\"Input:\\n\", text_from_ids(input_example_batch[0]).numpy())"
      ]
    },
    {
      "cell_type": "markdown",
      "metadata": {
        "id": "ikuLsCXBs9w7"
      },
      "source": [
        "### Train Model"
      ]
    },
    {
      "cell_type": "markdown",
      "metadata": {
        "id": "6CJA6gwCs_Tb"
      },
      "source": [
        "Pada titik ini permasalahan dapat dianggap sebagai permasalahan klasifikasi standar. Permasalahan dapat disimpulkan dengan : Berdasarkan status RNN sebelumnya, dan masukan langkah kali ini, prediksi kelas karakter berikutnya."
      ]
    },
    {
      "cell_type": "markdown",
      "metadata": {
        "id": "HOkr6lgqtCTw"
      },
      "source": [
        "### Tambahan optimizer dan fungsi loss\n",
        "\n",
        "loss function tf.keras.losses.sparse_categorical_crossentropy standar berfungsi dalam kasus ini karena diterapkan di seluruh dimensi terakhir prediksi. Karena model Anda mengembalikan logits, Anda perlu mengatur flag from_logits."
      ]
    },
    {
      "cell_type": "code",
      "execution_count": null,
      "metadata": {
        "id": "NvbfuG1AtF4D"
      },
      "outputs": [],
      "source": [
        "loss = tf.losses.SparseCategoricalCrossentropy(from_logits=True)"
      ]
    },
    {
      "cell_type": "code",
      "execution_count": null,
      "metadata": {
        "id": "WEaC6xH0tI81",
        "outputId": "8eb5df6b-7b82-44ff-9a97-489defed8eec",
        "colab": {
          "base_uri": "https://localhost:8080/"
        }
      },
      "outputs": [
        {
          "output_type": "stream",
          "name": "stdout",
          "text": [
            "Prediction shape:  (64, 100, 66)  # (batch_size, sequence_length, vocab_size)\n",
            "Mean loss:         tf.Tensor(4.189344, shape=(), dtype=float32)\n"
          ]
        }
      ],
      "source": [
        "example_batch_mean_loss = loss(target_example_batch, example_batch_predictions)\n",
        "print(\"Prediction shape: \", example_batch_predictions.shape, \" # (batch_size, sequence_length, vocab_size)\")\n",
        "print(\"Mean loss:        \", example_batch_mean_loss)"
      ]
    },
    {
      "cell_type": "markdown",
      "metadata": {
        "id": "1aS0VQO8tNBx"
      },
      "source": [
        "Model yang baru diinisialisasi tidak boleh terlalu yakin dengan dirinya sendiri, semua log keluaran harus memiliki besaran yang sama. Untuk mengonfirmasi hal ini, Anda dapat memeriksa bahwa eksponensial dari loss rata-rata harus kira-kira sama dengan ukuran kosakata. Loss yang jauh lebih tinggi berarti model tersebut yakin akan jawaban yang salah, dan memiliki inisialisasi yang buruk:"
      ]
    },
    {
      "cell_type": "code",
      "execution_count": null,
      "metadata": {
        "id": "CCJ3bIRctN58",
        "outputId": "0eda8106-6635-49ee-cb7e-8246d9dccea0",
        "colab": {
          "base_uri": "https://localhost:8080/"
        }
      },
      "outputs": [
        {
          "output_type": "execute_result",
          "data": {
            "text/plain": [
              "65.97949"
            ]
          },
          "metadata": {},
          "execution_count": 59
        }
      ],
      "source": [
        "tf.exp(example_batch_mean_loss).numpy()"
      ]
    },
    {
      "cell_type": "markdown",
      "metadata": {
        "id": "lhsfxeLKtPjO"
      },
      "source": [
        "Konfigurasikan prosedur pelatihan menggunakan metode tf.keras.Model.compile. Gunakan tf.keras.optimizers.Adam dengan argumen default dan fungsi loss."
      ]
    },
    {
      "cell_type": "code",
      "execution_count": null,
      "metadata": {
        "id": "9nANk_EEtSLt"
      },
      "outputs": [],
      "source": [
        "model.compile(optimizer='adam', loss=loss)"
      ]
    },
    {
      "cell_type": "markdown",
      "metadata": {
        "id": "Q7QePHBGtU28"
      },
      "source": [
        "### Konfigurasi Checkpoints\n",
        "Gunakan tf.keras.callbacks.ModelCheckpoint untuk memastikan bahwa checkpoint disimpan selama pelatihan:"
      ]
    },
    {
      "cell_type": "code",
      "execution_count": null,
      "metadata": {
        "id": "7sszUAaatX6V"
      },
      "outputs": [],
      "source": [
        "# Directory where the checkpoints will be saved\n",
        "checkpoint_dir = './training_checkpoints'\n",
        "# Name of the checkpoint files\n",
        "checkpoint_prefix = os.path.join(checkpoint_dir, \"ckpt_{epoch}\")\n",
        "\n",
        "checkpoint_callback = tf.keras.callbacks.ModelCheckpoint(\n",
        "    filepath=checkpoint_prefix,\n",
        "    save_weights_only=True)"
      ]
    },
    {
      "cell_type": "markdown",
      "metadata": {
        "id": "smvZfKiOtb2t"
      },
      "source": [
        "### Lakukan Proses Training\n",
        "Agar waktu pelatihan tidak terlalu lama, gunakan 10 epoch untuk melatih model. Di Colab, setel runtime ke GPU untuk pelatihan yang lebih cepat."
      ]
    },
    {
      "cell_type": "code",
      "execution_count": null,
      "metadata": {
        "id": "iznuxbAZte-H",
        "outputId": "6aa1d5fd-ac1b-4735-9d24-50f7b1ad343b",
        "colab": {
          "base_uri": "https://localhost:8080/"
        }
      },
      "outputs": [
        {
          "output_type": "stream",
          "name": "stdout",
          "text": [
            "Epoch 1/20\n",
            "172/172 [==============================] - 16s 63ms/step - loss: 2.7185\n",
            "Epoch 2/20\n",
            "172/172 [==============================] - 13s 61ms/step - loss: 1.9870\n",
            "Epoch 3/20\n",
            "172/172 [==============================] - 12s 61ms/step - loss: 1.7049\n",
            "Epoch 4/20\n",
            "172/172 [==============================] - 12s 58ms/step - loss: 1.5431\n",
            "Epoch 5/20\n",
            "172/172 [==============================] - 12s 60ms/step - loss: 1.4455\n",
            "Epoch 6/20\n",
            "172/172 [==============================] - 12s 59ms/step - loss: 1.3787\n",
            "Epoch 7/20\n",
            "172/172 [==============================] - 13s 61ms/step - loss: 1.3273\n",
            "Epoch 8/20\n",
            "172/172 [==============================] - 12s 61ms/step - loss: 1.2823\n",
            "Epoch 9/20\n",
            "172/172 [==============================] - 13s 61ms/step - loss: 1.2414\n",
            "Epoch 10/20\n",
            "172/172 [==============================] - 12s 59ms/step - loss: 1.2029\n",
            "Epoch 11/20\n",
            "172/172 [==============================] - 12s 58ms/step - loss: 1.1620\n",
            "Epoch 12/20\n",
            "172/172 [==============================] - 12s 60ms/step - loss: 1.1208\n",
            "Epoch 13/20\n",
            "172/172 [==============================] - 12s 61ms/step - loss: 1.0779\n",
            "Epoch 14/20\n",
            "172/172 [==============================] - 12s 61ms/step - loss: 1.0316\n",
            "Epoch 15/20\n",
            "172/172 [==============================] - 12s 58ms/step - loss: 0.9842\n",
            "Epoch 16/20\n",
            "172/172 [==============================] - 12s 60ms/step - loss: 0.9340\n",
            "Epoch 17/20\n",
            "172/172 [==============================] - 12s 61ms/step - loss: 0.8826\n",
            "Epoch 18/20\n",
            "172/172 [==============================] - 13s 59ms/step - loss: 0.8303\n",
            "Epoch 19/20\n",
            "172/172 [==============================] - 13s 61ms/step - loss: 0.7787\n",
            "Epoch 20/20\n",
            "172/172 [==============================] - 12s 62ms/step - loss: 0.7304\n"
          ]
        }
      ],
      "source": [
        "EPOCHS = 20\n",
        "\n",
        "history = model.fit(dataset, epochs=EPOCHS, callbacks=[checkpoint_callback])"
      ]
    },
    {
      "cell_type": "markdown",
      "metadata": {
        "id": "B2kalob8tmLh"
      },
      "source": [
        "### Generate Teks\n",
        "\n",
        "Cara termudah untuk menghasilkan teks dengan model ini adalah dengan menjalankannya dalam loop, dan menyimpan status internal model saat Anda menjalankannya.\n",
        "\n",
        "\n",
        "Setiap kali Anda memanggil model, Anda memasukkan beberapa teks dan state internal. Model mengembalikan prediksi untuk karakter berikutnya dan state barunya. Masukkan kembali prediksi dan state ke model untuk terus menghasilkan teks.\n",
        "\n",
        "Berikut ini membuat prediksi satu langkah:\n"
      ]
    },
    {
      "cell_type": "code",
      "execution_count": null,
      "metadata": {
        "id": "dh8aWz7Vtz74"
      },
      "outputs": [],
      "source": [
        "class OneStep(tf.keras.Model):\n",
        "  def __init__(self, model, chars_from_ids, ids_from_chars, temperature=1.0):\n",
        "    super().__init__()\n",
        "    self.temperature = temperature\n",
        "    self.model = model\n",
        "    self.chars_from_ids = chars_from_ids\n",
        "    self.ids_from_chars = ids_from_chars\n",
        "\n",
        "    # Create a mask to prevent \"[UNK]\" from being generated.\n",
        "    skip_ids = self.ids_from_chars(['[UNK]'])[:, None]\n",
        "    sparse_mask = tf.SparseTensor(\n",
        "        # Put a -inf at each bad index.\n",
        "        values=[-float('inf')]*len(skip_ids),\n",
        "        indices=skip_ids,\n",
        "        # Match the shape to the vocabulary\n",
        "        dense_shape=[len(ids_from_chars.get_vocabulary())])\n",
        "    self.prediction_mask = tf.sparse.to_dense(sparse_mask)\n",
        "\n",
        "  @tf.function\n",
        "  def generate_one_step(self, inputs, states=None):\n",
        "    # Convert strings to token IDs.\n",
        "    input_chars = tf.strings.unicode_split(inputs, 'UTF-8')\n",
        "    input_ids = self.ids_from_chars(input_chars).to_tensor()\n",
        "\n",
        "    # Run the model.\n",
        "    # predicted_logits.shape is [batch, char, next_char_logits]\n",
        "    predicted_logits, states = self.model(inputs=input_ids, states=states,\n",
        "                                          return_state=True)\n",
        "    # Only use the last prediction.\n",
        "    predicted_logits = predicted_logits[:, -1, :]\n",
        "    predicted_logits = predicted_logits/self.temperature\n",
        "    # Apply the prediction mask: prevent \"[UNK]\" from being generated.\n",
        "    predicted_logits = predicted_logits + self.prediction_mask\n",
        "\n",
        "    # Sample the output logits to generate token IDs.\n",
        "    predicted_ids = tf.random.categorical(predicted_logits, num_samples=1)\n",
        "    predicted_ids = tf.squeeze(predicted_ids, axis=-1)\n",
        "\n",
        "    # Convert from token ids to characters\n",
        "    predicted_chars = self.chars_from_ids(predicted_ids)\n",
        "\n",
        "    # Return the characters and model state.\n",
        "    return predicted_chars, states"
      ]
    },
    {
      "cell_type": "code",
      "execution_count": null,
      "metadata": {
        "id": "X-kdTUDLt3BM"
      },
      "outputs": [],
      "source": [
        "one_step_model = OneStep(model, chars_from_ids, ids_from_chars)"
      ]
    },
    {
      "cell_type": "markdown",
      "metadata": {
        "id": "hbuzlv__t1K_"
      },
      "source": [
        "Jalankan secara berulang untuk menghasilkan beberapa teks. Melihat teks yang dihasilkan, Anda akan melihat model mengetahui kapan harus menggunakan huruf besar, membuat paragraf, dan meniru kosakata menulis seperti Shakespeare. Karena sedikitnya jumlah epoch pelatihan, model belum belajar membentuk kalimat runtut."
      ]
    },
    {
      "cell_type": "code",
      "execution_count": null,
      "metadata": {
        "id": "skiNAhCMt_Aa",
        "outputId": "a027acde-8178-4b9b-de92-8a7a84c5c2b0",
        "colab": {
          "base_uri": "https://localhost:8080/"
        }
      },
      "outputs": [
        {
          "output_type": "stream",
          "name": "stdout",
          "text": [
            "ROMEO:\n",
            "Ready to Tybalt, when thou wear'st us!\n",
            "\n",
            "PROSPERO:\n",
            "Thou liest! first feating law; that's off.\n",
            "\n",
            "Provost:\n",
            "That's gentleman of this decree.\n",
            "\n",
            "CLARENCE:\n",
            "The very weeping delayed of me: 'twill be your bosom,\n",
            "Though Katharina king, best over thee?\n",
            "\n",
            "JOHN OF GAUNT:\n",
            "When thou drown these tribunes,--\n",
            "\n",
            "BRUTOR:\n",
            "May fight the gate'er now that office of her debt,\n",
            "Advice away with very ourselves aground,\n",
            "And caught thee tyrannous; but this,\n",
            "Unless the devils and inkith is happily engo.\n",
            "Will they laugh at my feet will play our nail\n",
            "with inky blests that found with trial of your duty:\n",
            "Pray you, sir, when we procued my lord,\n",
            "You are the rest that makes yourself impartling lark\n",
            "For bearing what please to the virtuous teption.\n",
            "Where is my lovely cries 'Shall'ster'd in myself!\n",
            "Where is thy matter, none of mine he is in Master's skin.\n",
            "\n",
            "PRISave:\n",
            "Patience, go to:\n",
            "A valacy to your mathem and most proceed\n",
            "Upon his oath-gentle uncle-singness. Come on,\n",
            "We are me the good grief commanding standing with,\n",
            "With chroni \n",
            "\n",
            "________________________________________________________________________________\n",
            "\n",
            "Run time: 3.879865884780884\n"
          ]
        }
      ],
      "source": [
        "start = time.time()\n",
        "states = None\n",
        "next_char = tf.constant(['ROMEO:'])\n",
        "result = [next_char]\n",
        "\n",
        "for n in range(1000):\n",
        "  next_char, states = one_step_model.generate_one_step(next_char, states=states)\n",
        "  result.append(next_char)\n",
        "\n",
        "result = tf.strings.join(result)\n",
        "end = time.time()\n",
        "print(result[0].numpy().decode('utf-8'), '\\n\\n' + '_'*80)\n",
        "print('\\nRun time:', end - start)"
      ]
    },
    {
      "cell_type": "markdown",
      "metadata": {
        "id": "4MUraukHuBp_"
      },
      "source": [
        "Hal termudah yang dapat Anda lakukan untuk meningkatkan hasil adalah dengan melatihnya lebih lama (coba EPOCHS = 30). Anda juga dapat bereksperimen dengan string awal yang berbeda, mencoba menambahkan lapisan RNN lain untuk meningkatkan akurasi model, atau menyesuaikan parameter suhu untuk menghasilkan prediksi yang kurang lebih acak.\n",
        "\n",
        "\n",
        "Jika Anda ingin model menghasilkan teks lebih cepat, hal termudah yang dapat Anda lakukan adalah membuat teks secara batch. Pada contoh di bawah, model menghasilkan 5 keluaran dalam waktu yang hampir sama dengan waktu yang dibutuhkan untuk menghasilkan 1 keluaran di atas."
      ]
    },
    {
      "cell_type": "code",
      "execution_count": null,
      "metadata": {
        "id": "7M5GJprLuDcf",
        "outputId": "bb1fcf6e-51ba-431f-8f35-ae000d2f9e63",
        "colab": {
          "base_uri": "https://localhost:8080/"
        }
      },
      "outputs": [
        {
          "output_type": "stream",
          "name": "stdout",
          "text": [
            "tf.Tensor(\n",
            "[b\"ROMEO:\\nWas ever man speak so? look proof again,\\nThat feese with what you prove an extreme gods!\\nBut thy unworthy temblest now wrong'd young men\\nDeposed; thou shalt dew and enfranchised,\\nCountryment from meat the salces of the earth,\\nTenderith a power i' the English peers,\\nAnd with ill spirits ne'er come out.\\n\\nPERDITA:\\nYou calls, mend up the store.\\nAnd he's most like me of this rudlen ear,\\nI heard you say, by new villain Dorseth no:\\nAnd that so stirms are such in mantia censure\\nAs bounty as a multiness. Tybalt,\\nFor that our king, because which the glasses doge't;\\nIf I bather, disbause not; for the live thou art,\\nWere not sparkling and bruised about the fine.\\n\\nESCALUS:\\nCall for me-lose a to the grains. They love no child!\\nIn this to grant her brothers to do't.\\n\\nISABELLA:\\nProtest I know.\\n\\nDUCHESS OF YORK:\\nWhat, dost thou not? 'signory, would meet salctively a\\nworser: though those stewn your highness and them,\\nAnd in protection of but whilst in rest!\\nOf that things that I yet repose us!\\n\\nEDWARD:\"\n",
            " b\"ROMEO:\\nThere is no letter for thy lips, Lauren pites;\\nTell her I send to shrink my victory from the near?\\nWhen grace is mene thee in this new more\\nThan to the lustial choice.\\n\\nCLARENCE:\\nThou at my constance, but what store\\nThoughts with one chain. He has more worns.\\n\\nFirst Senator:\\nThe more I have done say that, give me else\\nBy curses than an ample subjects.\\nHow now, fair profose! what news\\nBy vain before this oath is freely speak:\\nThe lawaster thy condition, to a dove iched.\\n\\nJULIET:\\nWhat doth our seat came there? why dost not?\\n\\nPedant:\\nWhat was I oneven dishonour to deny him,\\nThat fee wheth out a dead man's foul;\\nYou have found millians, therefore, go not:\\nDown with thee! or change in the tomb,\\nAnd left why set my old across thou my kin,\\nBy the vigaivit my servants deportul to a mad-born, but we say, as if I feel, as he.\\nDeserve way, but hearts my son there!\\n\\nABHORSON:\\nHe was; when he wakes considering wrath of grown\\nIs all as old curse that sent for time-forth, gruef.\\nThy Edward Peter's E\"\n",
            " b\"ROMEO:\\nTratu leave?\\n\\nLUCENTIO:\\nHark, thy weapons!\\n\\nMONAMEL:\\nThou art the father; and I had rather\\nYou shall appointment grace.\\n\\nFLORIZEL:\\nOut of our ruberself, it did lose your bondmanier:\\nGood most again, but at least will not stay thence.\\nBesides, he comest thy master than mystlerer.\\n\\nQUEEN ELIZABETH:\\nHie thee to pity him!\\n\\nLord Mayor:\\nWe will do from nimble matchers, let me think\\nThat will make for such provoison's brother;\\nAnd he had loved their brats and why the king stark?\\n\\nSecond Watchman:\\nDown: then, defilet me, thirk!\\n\\nMOPSA:\\nI have been so believed: peace me not, my grave Mercurity,\\nThough 'tis now kindness when he will move your neck,\\nAnd lodging you of signor, in my lips,\\nHave told dinger, and break these traitors,\\nWhen he makes sweet making made by me,\\nAnd noble with my daughter is certain and revenge:\\nOr, if we be; nor on mine ide,\\nThough loath to furniful Henry, it did lay\\nmy face,\\nHe tress'd to death, and left thee by the name!\\nWhy, what was not much man, Diank waven thee,\\nBy\"\n",
            " b\"ROMEO:\\nWhen men and we choose our free meat-a\\ncrab to hear thee, 'tis a wonder, if they are bold,\\nBe accused with thee and an oath to seek friend;\\nHis wife comes for me and being his necessary,\\nAs he finds that lose precedent;\\nWould they nothing but pierce loves much of his:\\nThe only accept of peace shall never then\\nYour Bockety full of prey, but at envance,\\nAnd offence that Rutland cocerven with truth,\\nWhich once I favourity, their shrives,\\nThe more I not infect that thought; he\\nwill wish me to servive the storm; and what doth he\\nbe impliting to break a lictly here alive.\\n\\nJULIET:\\nI will not fly the death, my lovely eats,\\nHave butch'll quewh of Gloucester and his eye.'\\n\\nKING EDWARD IV:\\nIt dost not so employ'd. Beshrew me, you\\nagain. Juliet willstry!\\n\\nPROSPERO:\\nHast thou spoken, we have spoken.\\n\\nPOLIXENES:\\nMy brother there, had you he needs shall love you welcome.\\n\\nFirst Soldier:\\nWe are like to do such a wife.\\n\\nDUKE VINCENTIO:\\nYou shall not be long; he must straight to sit and weeps;\\nWhom fo\"\n",
            " b\"ROMEO:\\nThe love when I am still ask death!\\nKnow you honourable, none on 's then?\\n\\nPedant:\\nI have no staggers, by sin, we shall ne'er precion\\nIs are open'd with that rage:\\n'Tell him no more: I'll give my colour's cheeks,\\nThe streets his lecture be set thy best order lange;\\nRespection made him seem so brave for rich\\nThe people.\\n\\nSICINIUS:\\nYonder since we stay the breeder hands upon this fool;\\nAdd am their woes fail run, and not for wanton wide as leaves\\nA mabercutation of this person from me the\\nwidow than never yet unborn.\\n\\nANGELO:\\nWhen I, that villain Rome am I lose this pursua,\\nExcepting one send thy death.\\n\\nLEONTES:\\nO groverbul maid, not his other toperser\\nPropouch us 'nounder. His wroth I'll prove, my lords,\\nBearing the field by me fit you find the fearer steed\\nThe state may be unpossible than measure thee.\\nA pretty boast of strange there in the north,\\nBut thou this state and man, most gracious people,\\nAnd who no longer bred is done.\\nThe like most gift will cry old about the world:\\nBut, m\"], shape=(5,), dtype=string) \n",
            "\n",
            "________________________________________________________________________________\n",
            "\n",
            "Run time: 3.732086420059204\n"
          ]
        }
      ],
      "source": [
        "start = time.time()\n",
        "states = None\n",
        "next_char = tf.constant(['ROMEO:', 'ROMEO:', 'ROMEO:', 'ROMEO:', 'ROMEO:'])\n",
        "result = [next_char]\n",
        "\n",
        "for n in range(1000):\n",
        "  next_char, states = one_step_model.generate_one_step(next_char, states=states)\n",
        "  result.append(next_char)\n",
        "\n",
        "result = tf.strings.join(result)\n",
        "end = time.time()\n",
        "print(result, '\\n\\n' + '_'*80)\n",
        "print('\\nRun time:', end - start)"
      ]
    },
    {
      "cell_type": "markdown",
      "metadata": {
        "id": "lOftU-mDuFCG"
      },
      "source": [
        "### Ekspor Model Generator\n",
        "Model satu langkah ini dapat dengan mudah disimpan dan digunakan kembali, memungkinkan Anda menggunakannya di mana pun tf.saved_model diterima."
      ]
    },
    {
      "cell_type": "code",
      "execution_count": null,
      "metadata": {
        "id": "I_S6domMuIMx",
        "outputId": "6154f032-9d67-4a8c-e2af-f207aeadf6ca",
        "colab": {
          "base_uri": "https://localhost:8080/"
        }
      },
      "outputs": [
        {
          "output_type": "stream",
          "name": "stderr",
          "text": [
            "WARNING:tensorflow:Skipping full serialization of Keras layer <__main__.OneStep object at 0x7a1ecee36230>, because it is not built.\n",
            "WARNING:tensorflow:Model's `__init__()` arguments contain non-serializable objects. Please implement a `get_config()` method in the subclassed Model for proper saving and loading. Defaulting to empty config.\n",
            "WARNING:tensorflow:Model's `__init__()` arguments contain non-serializable objects. Please implement a `get_config()` method in the subclassed Model for proper saving and loading. Defaulting to empty config.\n"
          ]
        }
      ],
      "source": [
        "tf.saved_model.save(one_step_model, 'one_step')\n",
        "one_step_reloaded = tf.saved_model.load('one_step')"
      ]
    },
    {
      "cell_type": "code",
      "execution_count": null,
      "metadata": {
        "id": "2us5hI9TuJY5",
        "outputId": "d756f1e0-59ed-4b2d-bd36-3efc3e3fc061",
        "colab": {
          "base_uri": "https://localhost:8080/"
        }
      },
      "outputs": [
        {
          "output_type": "stream",
          "name": "stdout",
          "text": [
            "ROMEO:\n",
            "Nay, but it is no other; 'What sink\n",
            "His rudewife to have supposed this case of thee\n",
            "That is so prop\n"
          ]
        }
      ],
      "source": [
        "states = None\n",
        "next_char = tf.constant(['ROMEO:'])\n",
        "result = [next_char]\n",
        "\n",
        "for n in range(100):\n",
        "  next_char, states = one_step_reloaded.generate_one_step(next_char, states=states)\n",
        "  result.append(next_char)\n",
        "\n",
        "print(tf.strings.join(result)[0].numpy().decode(\"utf-8\"))"
      ]
    }
  ],
  "metadata": {
    "colab": {
      "provenance": [],
      "gpuType": "T4",
      "include_colab_link": true
    },
    "kernelspec": {
      "display_name": "Python 3",
      "name": "python3"
    },
    "language_info": {
      "name": "python"
    },
    "accelerator": "GPU"
  },
  "nbformat": 4,
  "nbformat_minor": 0
}